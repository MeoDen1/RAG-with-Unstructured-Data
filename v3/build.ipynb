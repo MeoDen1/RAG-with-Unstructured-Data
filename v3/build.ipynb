{
 "cells": [
  {
   "cell_type": "code",
   "execution_count": 1,
   "metadata": {},
   "outputs": [
    {
     "data": {
      "text/plain": [
       "True"
      ]
     },
     "execution_count": 1,
     "metadata": {},
     "output_type": "execute_result"
    }
   ],
   "source": [
    "import pandas as pd\n",
    "import os\n",
    "import json\n",
    "from dotenv import load_dotenv\n",
    "import importlib\n",
    "\n",
    "load_dotenv()"
   ]
  },
  {
   "cell_type": "markdown",
   "metadata": {},
   "source": [
    "# A Graph RAG Approach to Query-Focused Summarization\n",
    "<hr>\n",
    "\n",
    "\n",
    "Reference: [From Local to Global: A Graph RAG Approach to Query-Focused Summarization](https://arxiv.org/abs/2404.16130)\n",
    "<br>\n",
    "\n",
    "![image](../.resources/Query-Focused-Summarization.png)\n"
   ]
  },
  {
   "cell_type": "markdown",
   "metadata": {},
   "source": [
    "<br>\n",
    "<br>\n",
    "<hr>"
   ]
  },
  {
   "cell_type": "markdown",
   "metadata": {},
   "source": [
    "## 1 Source Document -> Text Chunks\n",
    "\n",
    "The chunk size used for this implementation is 600 tokens. According to the paper, using a longer chunk size can reduce the number of LLM calls required for extraction. However, this approach can lead to recall degradation, as the model may not fully extract all relevant information from a longer context window."
   ]
  },
  {
   "cell_type": "code",
   "execution_count": 7,
   "metadata": {},
   "outputs": [
    {
     "name": "stdout",
     "output_type": "stream",
     "text": [
      "The Project Gutenberg eBook of A Christmas Carol\n",
      "\n",
      "    \n",
      "\n",
      "This ebook is for the use of anyone anywhere in the United States and\n",
      "\n",
      "most other parts of the world at no cost and with almost no restrictions\n",
      "\n",
      "whatsoever. You may copy it, give it away or re-use it under the terms\n",
      "\n",
      "of the Project Gutenberg License included with this ebook or online\n",
      "\n",
      "at www.gutenberg.org. If you are not located in the United States,\n",
      "\n",
      "you will have to check the laws of the country where you are located\n",
      "\n",
      "before using this eBook.\n",
      "\n",
      "\n",
      "\n",
      "Title: A Christmas Carol\n",
      "\n",
      "\n",
      "\n",
      "Author: Charles Dickens\n",
      "\n",
      "\n",
      "\n",
      "Illustrator: Arthur Rackham\n",
      "\n",
      "\n",
      "\n",
      "Relea\n"
     ]
    }
   ],
   "source": [
    "# load data\n",
    "data = \"\"\n",
    "\n",
    "with open(\"../doc/pg24022.txt\", 'r') as file:\n",
    "    data = '\\n'.join(file.readlines())\n",
    "\n",
    "print(data[:600])"
   ]
  },
  {
   "cell_type": "code",
   "execution_count": 8,
   "metadata": {},
   "outputs": [
    {
     "data": {
      "text/plain": [
       "80"
      ]
     },
     "execution_count": 8,
     "metadata": {},
     "output_type": "execute_result"
    }
   ],
   "source": [
    "from text_splitter import TextSplitter\n",
    "text_splitter = TextSplitter(600, 20)\n",
    "\n",
    "chunks = text_splitter.split_text(data)\n",
    "len(chunks)"
   ]
  },
  {
   "cell_type": "markdown",
   "metadata": {},
   "source": [
    "<hr>\n",
    "<br>"
   ]
  },
  {
   "cell_type": "markdown",
   "metadata": {},
   "source": [
    "\n",
    "\n",
    "## 2 Text extraction -> Element Instances\n",
    "\n",
    "A multipart LLM prompt will be used to identify all the *entites* in the text, including their names, type and description. Then extracting *relationship* between entities"
   ]
  },
  {
   "cell_type": "code",
   "execution_count": 9,
   "metadata": {},
   "outputs": [],
   "source": [
    "from extractor import GraphExtractor\n",
    "from LLM import GeminiModel\n",
    "\n",
    "ge = GraphExtractor(GeminiModel(\"gemini-1.5-flash-001\"))"
   ]
  },
  {
   "cell_type": "code",
   "execution_count": 10,
   "metadata": {},
   "outputs": [],
   "source": [
    "print(ge.extract_text(chunks[0], store=False))"
   ]
  },
  {
   "cell_type": "markdown",
   "metadata": {},
   "source": [
    "From the above *entities* and *relationships* extraction using Gemini model. The model is capable of extracting and building information for entities and relationship. \n",
    "\n",
    "However, through many tests, the results are not consistent. Sometimes, the model fails to fully extract entities or relationships from text. This has been mentioned in paper, where the author use multiple rounds of “gleanings” to encourage the LLM to detect any additional entities it may have missed on prior extraction rounds.  \n",
    "\n",
    "**NOTE**: Currently, the function has not included the aboved multi-gleaning process."
   ]
  },
  {
   "cell_type": "code",
   "execution_count": null,
   "metadata": {},
   "outputs": [],
   "source": [
    "# Extract entities and relationships from all chunks\n",
    "for chunk in chunks:\n",
    "    ge.extract_text(chunk)"
   ]
  },
  {
   "cell_type": "code",
   "execution_count": null,
   "metadata": {},
   "outputs": [
    {
     "data": {
      "text/plain": [
       "['Ebenezer Scrooge is the main character of \"A Christmas Carol\" by Charles Dickens',\n",
       " 'Ebenezer Scrooge is a grasping, covetous old man, the surviving partner of the firm of Scrooge and Marley',\n",
       " 'Ebenezer Scrooge is a miserly man who is visited by the ghost of Jacob Marley.  He is visited by three spirits on Christmas Eve to show him the errors of his ways',\n",
       " 'Ebenezer Scrooge is the protagonist of the story, a miserly and cynical man who is visited by three spirits to learn about the consequences of his actions']"
      ]
     },
     "execution_count": 10,
     "metadata": {},
     "output_type": "execute_result"
    }
   ],
   "source": [
    "# Scrooge is the main character of Christmas Carol\n",
    "ge.temp['\"ENTITY\"<TD>EBENEZER SCROOGE<TD>PERSON']"
   ]
  },
  {
   "cell_type": "code",
   "execution_count": null,
   "metadata": {},
   "outputs": [],
   "source": [
    "# save temp information\n",
    "\n",
    "json_temp_path = \"../json/christmas_carol_temp.json\"\n",
    "\n",
    "with open(json_temp_path, \"w\") as fp:\n",
    "    json.dump(ge.temp, fp)"
   ]
  },
  {
   "cell_type": "markdown",
   "metadata": {},
   "source": [
    "<hr>\n",
    "<br>\n",
    "\n",
    "## 3 Element Instances -> Element Summaries\n",
    "\n",
    "In second phrase of dataflow from [Microsoft GraphRAG](https://microsoft.github.io/graphrag/posts/index/1-default_dataflow/). After retrieving all the *entities* and *relationships* from list of chunks, we will merge a the entity with the same *name* and *type*, generate list of *description*. This also applies for *relationship* by merging any relationship that have the same pair of *source* and *target*.\n",
    "\n",
    "After that, for every merged node, a LLM will be used to summarize list of description into a single description, covers full information of the node."
   ]
  },
  {
   "cell_type": "code",
   "execution_count": 2,
   "metadata": {},
   "outputs": [],
   "source": [
    "from extractor import GraphExtractor\n",
    "from LLM import GeminiModel\n",
    "\n",
    "ge = GraphExtractor(GeminiModel(\"gemini-1.5-flash-001\"))\n",
    "\n",
    "json_temp_path = \"../json/christmas_carol_temp.json\"\n",
    "\n",
    "with open(json_temp_path, \"r\") as fp:\n",
    "    ge.temp = json.load(fp)"
   ]
  },
  {
   "cell_type": "code",
   "execution_count": null,
   "metadata": {},
   "outputs": [],
   "source": [
    "# Call summarize function to merge duplicated entity and relationship\n",
    "\n",
    "# Cooldown is set to 5 seconds to prevent \"429 resource exhausted\" error from google client\n",
    "ge.summarize(cooldown=5)"
   ]
  },
  {
   "cell_type": "code",
   "execution_count": 4,
   "metadata": {},
   "outputs": [
    {
     "data": {
      "text/plain": [
       "[{'entity_name': 'PROJECT GUTENBERG',\n",
       "  'entity_type': 'ORGANIZATION',\n",
       "  'description': 'Project Gutenberg is a non-profit organization dedicated to promoting free access to electronic works. It creates and distributes free eBooks online in formats readable by a wide variety of computers. Project Gutenberg digitizes and distributes works in the public domain and works with copyright holders to make their works available to the public. It holds a copyright on the compilation of its works and is associated with the Project Gutenberg Literary Archive Foundation. The organization relies on donations and volunteers to continue its mission. \\n'},\n",
       " {'entity_name': 'CHARLES DICKENS',\n",
       "  'entity_type': 'PERSON',\n",
       "  'description': 'Charles Dickens is the author of A Christmas Carol'},\n",
       " {'entity_name': 'ARTHUR RACKHAM',\n",
       "  'entity_type': 'PERSON',\n",
       "  'description': 'Arthur Rackham is an illustrator known for his illustrations for \"A Christmas Carol\" and other classic books'},\n",
       " {'entity_name': 'J. B. LIPPINCOTT COMPANY',\n",
       "  'entity_type': 'ORGANIZATION',\n",
       "  'description': 'J. B. Lippincott Company is a publisher that originally published \"A Christmas Carol\" in 1915'},\n",
       " {'entity_name': 'BOB CRATCHIT',\n",
       "  'entity_type': 'PERSON',\n",
       "  'description': 'Bob Cratchit is the clerk of Ebenezer Scrooge in Charles Dickens\\' \"A Christmas Carol.\" He is the father of the Cratchit family, including his son, Tiny Tim, whose health is a source of concern for Bob. Bob is a loving and caring father who is known for his kindness and generosity, even though he is a poor man with a large family. He is often struggling to make ends meet but remains hopeful and positive.  Despite his financial struggles, Bob is a hardworking man who is dedicated to providing for his family. He enjoys sliding down Cornhill on Christmas Eve and is often late for work, which frustrates Scrooge. \\n'}]"
      ]
     },
     "execution_count": 4,
     "metadata": {},
     "output_type": "execute_result"
    }
   ],
   "source": [
    "ge.data[:5]"
   ]
  },
  {
   "cell_type": "code",
   "execution_count": 5,
   "metadata": {},
   "outputs": [
    {
     "name": "stdout",
     "output_type": "stream",
     "text": [
      "File is successfully saved at: ../json/christmas_carol.json\n"
     ]
    }
   ],
   "source": [
    "# Save to JSON file\n",
    "json_path = \"../json/christmas_carol.json\"\n",
    "ge.save_data(json_path)"
   ]
  },
  {
   "cell_type": "markdown",
   "metadata": {},
   "source": [
    "<hr>\n",
    "\n",
    "<br>\n",
    "\n",
    "## 4 Element Summaries -> Graph Communities\n",
    "\n",
    "After thrid step, we can form a usable graph with summarized *entities* and *relationships*. However, in order to provide stronger connection between entity and more efficient when searching, a community detection algorithm will be use to partition the graph into communities of nodes.\n",
    "\n",
    "Each community has to preserve 2 aspect: **Mutually Exclusive** and **Collectively Exhautive**, which means a single node must belong to only one community.\n",
    "\n",
    "In this stage, **Hierarchical Leiden Algorithm** is used to generate a hierarchical of entity communities"
   ]
  },
  {
   "cell_type": "code",
   "execution_count": 2,
   "metadata": {},
   "outputs": [],
   "source": [
    "from langchain_community.graphs import Neo4jGraph\n",
    "\n",
    "NEO4J_URL = os.getenv('NEO4J_URL')\n",
    "NEO4J_USERNAME = os.getenv('NEO4J_USERNAME')\n",
    "NEO4J_PASSWORD = os.getenv('NEO4J_PASSWORD')\n",
    "NEO4J_DATABASE = os.getenv('NEO4J_DATABASE')\n",
    "\n",
    "kg = Neo4jGraph(NEO4J_URL, NEO4J_USERNAME, NEO4J_PASSWORD, NEO4J_DATABASE)"
   ]
  },
  {
   "cell_type": "code",
   "execution_count": 3,
   "metadata": {},
   "outputs": [
    {
     "data": {
      "text/plain": [
       "<module 'cypher_query' from '/home/nguyen/Project/Project - RAG/v3/cypher_query.py'>"
      ]
     },
     "execution_count": 3,
     "metadata": {},
     "output_type": "execute_result"
    }
   ],
   "source": [
    "import cypher_query as cq\n",
    "importlib.reload(cq)"
   ]
  },
  {
   "cell_type": "code",
   "execution_count": 4,
   "metadata": {},
   "outputs": [
    {
     "data": {
      "text/plain": [
       "[]"
      ]
     },
     "execution_count": 4,
     "metadata": {},
     "output_type": "execute_result"
    }
   ],
   "source": [
    "# Reset database\n",
    "query1 = \"\"\"\n",
    "MATCH (a)-[r]->()\n",
    "DETACH DELETE a, r\n",
    "\"\"\"\n",
    "\n",
    "query2 = \"\"\"\n",
    "MATCH (a)\n",
    "DETACH DELETE a\n",
    "\"\"\"\n",
    "\n",
    "kg.query(query1)\n",
    "kg.query(query2)"
   ]
  },
  {
   "cell_type": "code",
   "execution_count": 5,
   "metadata": {},
   "outputs": [],
   "source": [
    "# store json in to graph\n",
    "json_path = \"../json/christmas_carol.json\"\n",
    "with open(json_path, 'r') as fp:\n",
    "    data = json.load(fp)\n",
    "\n",
    "for dt in data:\n",
    "    if \"entity_name\" in dt.keys():\n",
    "        cq.create_entity(kg, dt[\"entity_name\"], dt[\"entity_type\"], dt[\"description\"])\n",
    "    else:\n",
    "        cq.create_relationship(kg, dt[\"source_entity\"], dt[\"target_entity\"], dt[\"description\"])"
   ]
  },
  {
   "cell_type": "markdown",
   "metadata": {},
   "source": [
    "![image](../.resources/v3_graph(1).png)\n",
    "\n",
    "- The purple presents Entity node, while others present entity type.\n",
    "\n",
    "- Each **RELATED** relationship between entity has a description describing the relationship between 2 entities."
   ]
  },
  {
   "cell_type": "markdown",
   "metadata": {},
   "source": [
    "In cypher, in order to perfrom graph embedding and community detection, we have to project the graph"
   ]
  },
  {
   "cell_type": "code",
   "execution_count": 6,
   "metadata": {},
   "outputs": [],
   "source": [
    "graph_name = \"christmas_carol\""
   ]
  },
  {
   "cell_type": "code",
   "execution_count": null,
   "metadata": {},
   "outputs": [],
   "source": [
    "query = f\"\"\"\n",
    "CALL gds.graph.drop(\"{graph_name}\", false)\n",
    "\"\"\"\n",
    "\n",
    "# Drop any existing graph having the same name with graph name\n",
    "kg.query(query)"
   ]
  },
  {
   "cell_type": "code",
   "execution_count": 8,
   "metadata": {},
   "outputs": [
    {
     "data": {
      "text/plain": [
       "[{'nodeProjection': {'Entity': {'label': 'Entity', 'properties': {}}},\n",
       "  'relationshipProjection': {'RELATED': {'aggregation': 'DEFAULT',\n",
       "    'orientation': 'UNDIRECTED',\n",
       "    'indexInverse': False,\n",
       "    'properties': {},\n",
       "    'type': 'RELATED'}},\n",
       "  'graphName': 'christmas_carol',\n",
       "  'nodeCount': 105,\n",
       "  'relationshipCount': 270,\n",
       "  'projectMillis': 8}]"
      ]
     },
     "execution_count": 8,
     "metadata": {},
     "output_type": "execute_result"
    }
   ],
   "source": [
    "# https://neo4j.com/docs/graph-data-science/current/management-ops/graph-creation/graph-project/\n",
    "\n",
    "query = f\"\"\"\n",
    "CALL gds.graph.project(\n",
    "    \"{graph_name}\",\n",
    "    [\"Entity\"],\n",
    "    {{\n",
    "        RELATED: {{orientation: \"UNDIRECTED\"}}\n",
    "    }}\n",
    ")\n",
    "\"\"\"\n",
    "\n",
    "kg.query(query)"
   ]
  },
  {
   "cell_type": "markdown",
   "metadata": {},
   "source": [
    "The projected graph only contains Entity nodes and the relationships betwwen entities are undirected"
   ]
  },
  {
   "cell_type": "markdown",
   "metadata": {},
   "source": [
    "### **Node2Vec Graph Embedding**\n",
    "embedding dim = 128"
   ]
  },
  {
   "cell_type": "code",
   "execution_count": 9,
   "metadata": {},
   "outputs": [
    {
     "name": "stdout",
     "output_type": "stream",
     "text": [
      "Name: PROJECT GUTENBERG\n",
      "Embedding: [0.02921578846871853, 0.23991276323795319, 0.11681374907493591, -0.03397374972701073, -0.20490705966949463, -0.10257968306541443, -0.5880280137062073, 0.20468437671661377, 0.11981715261936188, -0.13441352546215057]\n"
     ]
    }
   ],
   "source": [
    "query = f\"\"\"\n",
    "CALL gds.node2vec.stream(\n",
    "    \"{graph_name}\"\n",
    ")\n",
    "YIELD nodeId, embedding\n",
    "RETURN gds.util.asNode(nodeId).name AS name, embedding\n",
    "\"\"\"\n",
    "\n",
    "# Only print first 10 values of embedding array\n",
    "res = kg.query(query)[0]\n",
    "print(f\"Name: {res['name']}\\nEmbedding: {res['embedding'][:10]}\")"
   ]
  },
  {
   "cell_type": "markdown",
   "metadata": {},
   "source": [
    "### Community detection using **Leiden Algorithm**"
   ]
  },
  {
   "cell_type": "code",
   "execution_count": 10,
   "metadata": {},
   "outputs": [
    {
     "data": {
      "text/plain": [
       "[{'name': 'PROJECT GUTENBERG', 'communityId': 28},\n",
       " {'name': 'JOE MILLER', 'communityId': 27},\n",
       " {'name': 'UNITED STATES', 'communityId': 28},\n",
       " {'name': 'CHARLES DICKENS', 'communityId': 28},\n",
       " {'name': 'ARTHUR RACKHAM', 'communityId': 28}]"
      ]
     },
     "execution_count": 10,
     "metadata": {},
     "output_type": "execute_result"
    }
   ],
   "source": [
    "query = f\"\"\"\n",
    "CALL gds.leiden.stream(\n",
    "    \"{graph_name}\",\n",
    "    {{\n",
    "        includeIntermediateCommunities: false\n",
    "    }}\n",
    ")\n",
    "YIELD nodeId, communityId\n",
    "RETURN gds.util.asNode(nodeId).name AS name, communityId\n",
    "\"\"\"\n",
    "\n",
    "kg.query(query)[:5]"
   ]
  },
  {
   "cell_type": "code",
   "execution_count": 11,
   "metadata": {},
   "outputs": [
    {
     "data": {
      "text/plain": [
       "[{'communityCount': 19, 'modularity': 0.6213443072702332}]"
      ]
     },
     "execution_count": 11,
     "metadata": {},
     "output_type": "execute_result"
    }
   ],
   "source": [
    "# https://neo4j.com/docs/graph-data-science/current/algorithms/leiden/\n",
    "\n",
    "# View modularity\n",
    "\n",
    "query = f\"\"\"\n",
    "CALL gds.leiden.mutate(\n",
    "    \"{graph_name}\",\n",
    "    {{\n",
    "        mutateProperty: \"communityID\"\n",
    "    }}\n",
    ")\n",
    "YIELD communityCount, modularity\n",
    "\"\"\"\n",
    "\n",
    "kg.query(query)"
   ]
  },
  {
   "cell_type": "markdown",
   "metadata": {},
   "source": [
    "The final number of communities is *19* and the modularity of the graph is *0.62*"
   ]
  },
  {
   "cell_type": "markdown",
   "metadata": {},
   "source": [
    "<hr>\n",
    "<br>\n",
    "\n",
    "## 5 Graph community -> Community Summary"
   ]
  },
  {
   "cell_type": "code",
   "execution_count": 12,
   "metadata": {},
   "outputs": [
    {
     "data": {
      "text/plain": [
       "[{'communityCount': 19, 'modularity': 0.6213443072702333}]"
      ]
     },
     "execution_count": 12,
     "metadata": {},
     "output_type": "execute_result"
    }
   ],
   "source": [
    "# Store community id into node property\n",
    "query = f\"\"\"\n",
    "CALL gds.leiden.write(\n",
    "    \"{graph_name}\",\n",
    "    {{\n",
    "        writeProperty: \"communityId\"\n",
    "    }}\n",
    ")\n",
    "YIELD communityCount, modularity\n",
    "\"\"\"\n",
    "\n",
    "kg.query(query)"
   ]
  },
  {
   "cell_type": "code",
   "execution_count": 13,
   "metadata": {},
   "outputs": [
    {
     "data": {
      "text/plain": [
       "{'n': {'name': 'PROJECT GUTENBERG',\n",
       "  'description': 'Project Gutenberg is a non-profit organization dedicated to promoting free access to electronic works. It creates and distributes free eBooks online in formats readable by a wide variety of computers. Project Gutenberg digitizes and distributes works in the public domain and works with copyright holders to make their works available to the public. It holds a copyright on the compilation of its works and is associated with the Project Gutenberg Literary Archive Foundation. The organization relies on donations and volunteers to continue its mission. \\n',\n",
       "  'communityId': 23}}"
      ]
     },
     "execution_count": 13,
     "metadata": {},
     "output_type": "execute_result"
    }
   ],
   "source": [
    "# Check a single node\n",
    "query = f\"\"\"\n",
    "MATCH (n:Entity)\n",
    "RETURN n\n",
    "LIMIT 1\n",
    "\"\"\"\n",
    "\n",
    "kg.query(query)[0]"
   ]
  },
  {
   "cell_type": "code",
   "execution_count": 14,
   "metadata": {},
   "outputs": [],
   "source": [
    "# Get list of community id\n",
    "query = \"\"\"\n",
    "MATCH (n:Entity) RETURN DISTINCT n.communityId AS communityId\n",
    "\"\"\"\n",
    "result = kg.query(query)\n",
    "cid = []\n",
    "for obj in result:\n",
    "    cid.append(obj['communityId'])"
   ]
  },
  {
   "cell_type": "code",
   "execution_count": 30,
   "metadata": {},
   "outputs": [
    {
     "data": {
      "text/plain": [
       "(['CHARLES DICKENS,Charles Dickens is the author of A Christmas Carol',\n",
       "  'INTERNAL REVENUE SERVICE,The Internal Revenue Service granted tax exempt status to the Project Gutenberg Literary Archive Foundation',\n",
       "  'ARTHUR RACKHAM,Arthur Rackham is an illustrator known for his illustrations for \"A Christmas Carol\" and other classic books',\n",
       "  'J. B. LIPPINCOTT COMPANY,J. B. Lippincott Company is a publisher that originally published \"A Christmas Carol\" in 1915',\n",
       "  'A CHRISTMAS CAROL,None',\n",
       "  'PROJECT GUTENBERG,Project Gutenberg is a non-profit organization dedicated to promoting free access to electronic works. It creates and distributes free eBooks online in formats readable by a wide variety of computers. Project Gutenberg digitizes and distributes works in the public domain and works with copyright holders to make their works available to the public. It holds a copyright on the compilation of its works and is associated with the Project Gutenberg Literary Archive Foundation. The organization relies on donations and volunteers to continue its mission. \\n',\n",
       "  'UNITED STATES,The United States is a country whose laws apply to the use of Project Gutenberg books',\n",
       "  'MISSISSIPPI,The Project Gutenberg Literary Archive Foundation was organized under the laws of Mississippi',\n",
       "  'PROJECT GUTENBERG LITERARY ARCHIVE FOUNDATION,The Project Gutenberg Literary Archive Foundation (PGLAF) is a non-profit organization dedicated to ensuring the long-term survival of Project Gutenberg. It owns the Project Gutenberg™ trademark and oversees its distribution. The PGLAF also owns the compilation copyright for the collection of Project Gutenberg electronic works. This ensures that the Project Gutenberg collection remains accessible to all. \\n',\n",
       "  'MICHAEL S. HART,Professor Michael S. Hart is the originator of the Project Gutenberg concept. He dedicated 40 years to producing and distributing Project Gutenberg eBooks with the support of volunteers',\n",
       "  \"LITERARY ARCHIVE FOUNDATION,The Literary Archive Foundation is a non-profit organization that supports Project Gutenberg's work\",\n",
       "  'IRS,The Internal Revenue Service is the tax collection agency of the United States government'],\n",
       " ['CHARLES DICKENS,PROJECT GUTENBERG,Charles Dickens is an author whose book is available through Project Gutenberg',\n",
       "  'PROJECT GUTENBERG LITERARY ARCHIVE FOUNDATION,PROJECT GUTENBERG,The Project Gutenberg Literary Archive Foundation owns the compilation copyright for the collection of Project Gutenberg electronic works',\n",
       "  'ARTHUR RACKHAM,A CHRISTMAS CAROL,Arthur Rackham illustrated A Christmas Carol',\n",
       "  'PROJECT GUTENBERG,PROJECT GUTENBERG LITERARY ARCHIVE FOUNDATION,Project Gutenberg is overseen by the Project Gutenberg Literary Archive Foundation, which owns the trademark for Project Gutenberg. The Project Gutenberg Literary Archive Foundation was created to ensure a secure and permanent future for Project Gutenberg. \\n',\n",
       "  'PROJECT GUTENBERG,UNITED STATES,Project Gutenberg, based in the United States, offers books freely available within the country. The use of these books is subject to United States laws. \\n',\n",
       "  'J. B. LIPPINCOTT COMPANY,A CHRISTMAS CAROL,J. B. Lippincott Company was the first publisher of A Christmas Carol',\n",
       "  \"PROJECT GUTENBERG,LITERARY ARCHIVE FOUNDATION,The Literary Archive Foundation supports Project Gutenberg's work and mission\",\n",
       "  'PROJECT GUTENBERG LITERARY ARCHIVE FOUNDATION,INTERNAL REVENUE SERVICE,The Internal Revenue Service granted tax exempt status to the Project Gutenberg Literary Archive Foundation',\n",
       "  'PROJECT GUTENBERG,IRS,Project Gutenberg complies with IRS regulations concerning tax exempt status',\n",
       "  'CHARLES DICKENS,A CHRISTMAS CAROL,Charles Dickens is the author of A Christmas Carol',\n",
       "  'PROJECT GUTENBERG LITERARY ARCHIVE FOUNDATION,MISSISSIPPI,The Project Gutenberg Literary Archive Foundation was organized under the laws of Mississippi',\n",
       "  'MICHAEL S. HART,PROJECT GUTENBERG,Michael S. Hart started Project Gutenberg and spent 40 years producing and distributing eBooks'])"
      ]
     },
     "execution_count": 30,
     "metadata": {},
     "output_type": "execute_result"
    }
   ],
   "source": [
    "cq.get_community_info(kg, 23)"
   ]
  },
  {
   "cell_type": "markdown",
   "metadata": {},
   "source": [
    "The LLM will use this community information to write the summary of community"
   ]
  },
  {
   "cell_type": "code",
   "execution_count": 49,
   "metadata": {},
   "outputs": [],
   "source": [
    "# For each community id, we extract entities and relevant relationships and use LLM to summarize community\n",
    "from prompts import community_summarize_prompts\n",
    "from LLM import GeminiModel\n",
    "import time\n",
    "import cypher_query as cq\n",
    "importlib.reload(cq)\n",
    "llm = GeminiModel(\"gemini-1.5-flash-001\")\n",
    "\n",
    "communities = []\n",
    "\n",
    "for id in cid:\n",
    "    entities, relationships = cq.get_community_info(kg, id)\n",
    "\n",
    "    prompt = community_summarize_prompts.get_prompt(entities, relationships)\n",
    "\n",
    "    try:\n",
    "        result = llm.generate(prompt)\n",
    "\n",
    "        result = result.replace('```', '').replace(\"json\", \"\")\n",
    "\n",
    "        # Load data from LLM result\n",
    "        data = json.loads(result)\n",
    "        \n",
    "        communities.append([id, data[\"title\"], data[\"summary\"], data['rating'], data['rating_explanation'], data['findings']])\n",
    "        time.sleep(5)\n",
    "    \n",
    "    except Exception as exp:\n",
    "        print(f\"Error encouter: {exp}\")"
   ]
  },
  {
   "cell_type": "code",
   "execution_count": 50,
   "metadata": {},
   "outputs": [
    {
     "data": {
      "text/html": [
       "<div>\n",
       "<style scoped>\n",
       "    .dataframe tbody tr th:only-of-type {\n",
       "        vertical-align: middle;\n",
       "    }\n",
       "\n",
       "    .dataframe tbody tr th {\n",
       "        vertical-align: top;\n",
       "    }\n",
       "\n",
       "    .dataframe thead th {\n",
       "        text-align: right;\n",
       "    }\n",
       "</style>\n",
       "<table border=\"1\" class=\"dataframe\">\n",
       "  <thead>\n",
       "    <tr style=\"text-align: right;\">\n",
       "      <th></th>\n",
       "      <th>community_id</th>\n",
       "      <th>title</th>\n",
       "      <th>summary</th>\n",
       "      <th>rating</th>\n",
       "      <th>rating_explanation</th>\n",
       "      <th>findings</th>\n",
       "    </tr>\n",
       "  </thead>\n",
       "  <tbody>\n",
       "    <tr>\n",
       "      <th>0</th>\n",
       "      <td>23</td>\n",
       "      <td>Project Gutenberg and A Christmas Carol</td>\n",
       "      <td>This community is centered around Project Gute...</td>\n",
       "      <td>6.0</td>\n",
       "      <td>The impact severity rating is moderately high ...</td>\n",
       "      <td>[{'summary': 'Project Gutenberg: A Digital Lib...</td>\n",
       "    </tr>\n",
       "    <tr>\n",
       "      <th>1</th>\n",
       "      <td>24</td>\n",
       "      <td>Joe Miller</td>\n",
       "      <td>The community consists of a single entity, Joe...</td>\n",
       "      <td>1.0</td>\n",
       "      <td>The impact severity rating is low due to the h...</td>\n",
       "      <td>[{'summary': 'Joe Miller's historical signific...</td>\n",
       "    </tr>\n",
       "    <tr>\n",
       "      <th>2</th>\n",
       "      <td>16</td>\n",
       "      <td>Bob Cratchit and Family</td>\n",
       "      <td>This community is centered around the Cratchit...</td>\n",
       "      <td>7.0</td>\n",
       "      <td>The impact severity rating is high due to the ...</td>\n",
       "      <td>[{'summary': 'Bob Cratchit as the head of the ...</td>\n",
       "    </tr>\n",
       "    <tr>\n",
       "      <th>3</th>\n",
       "      <td>0</td>\n",
       "      <td>Scrooge's Transformation</td>\n",
       "      <td>This community revolves around Ebenezer Scroog...</td>\n",
       "      <td>7.0</td>\n",
       "      <td>The impact severity rating is high due to the ...</td>\n",
       "      <td>[{'summary': 'Scrooge's initial character and ...</td>\n",
       "    </tr>\n",
       "    <tr>\n",
       "      <th>4</th>\n",
       "      <td>6</td>\n",
       "      <td>Fezziwig's Christmas Party Community</td>\n",
       "      <td>This community centers around Fezziwig, a form...</td>\n",
       "      <td>2.0</td>\n",
       "      <td>The impact severity rating is low due to the c...</td>\n",
       "      <td>[{'summary': 'Fezziwig's Impact on the Communi...</td>\n",
       "    </tr>\n",
       "  </tbody>\n",
       "</table>\n",
       "</div>"
      ],
      "text/plain": [
       "   community_id                                    title  \\\n",
       "0            23  Project Gutenberg and A Christmas Carol   \n",
       "1            24                               Joe Miller   \n",
       "2            16                  Bob Cratchit and Family   \n",
       "3             0                 Scrooge's Transformation   \n",
       "4             6     Fezziwig's Christmas Party Community   \n",
       "\n",
       "                                             summary  rating  \\\n",
       "0  This community is centered around Project Gute...     6.0   \n",
       "1  The community consists of a single entity, Joe...     1.0   \n",
       "2  This community is centered around the Cratchit...     7.0   \n",
       "3  This community revolves around Ebenezer Scroog...     7.0   \n",
       "4  This community centers around Fezziwig, a form...     2.0   \n",
       "\n",
       "                                  rating_explanation  \\\n",
       "0  The impact severity rating is moderately high ...   \n",
       "1  The impact severity rating is low due to the h...   \n",
       "2  The impact severity rating is high due to the ...   \n",
       "3  The impact severity rating is high due to the ...   \n",
       "4  The impact severity rating is low due to the c...   \n",
       "\n",
       "                                            findings  \n",
       "0  [{'summary': 'Project Gutenberg: A Digital Lib...  \n",
       "1  [{'summary': 'Joe Miller's historical signific...  \n",
       "2  [{'summary': 'Bob Cratchit as the head of the ...  \n",
       "3  [{'summary': 'Scrooge's initial character and ...  \n",
       "4  [{'summary': 'Fezziwig's Impact on the Communi...  "
      ]
     },
     "execution_count": 50,
     "metadata": {},
     "output_type": "execute_result"
    }
   ],
   "source": [
    "# save to temp file\n",
    "df = pd.DataFrame(communities, columns=['community_id', 'title', 'summary', 'rating', 'rating_explanation', 'findings'])\n",
    "df.head()"
   ]
  },
  {
   "cell_type": "code",
   "execution_count": 51,
   "metadata": {},
   "outputs": [],
   "source": [
    "with open(\"../.temp/community_summary_temp.csv\", 'w') as fp:\n",
    "    df.to_csv(fp)"
   ]
  },
  {
   "cell_type": "markdown",
   "metadata": {},
   "source": [
    "In dataflow, we create vector representation of communities by generating text embeddings of community summary"
   ]
  },
  {
   "cell_type": "code",
   "execution_count": 60,
   "metadata": {},
   "outputs": [],
   "source": [
    "from EmbeddingModel import GeminiEmbeddingModel\n",
    "\n",
    "\n",
    "gem = GeminiEmbeddingModel()\n",
    "# Gemini embedding vector dimension is: 768\n",
    "\n",
    "# Create community node\n",
    "for community in communities:\n",
    "    id, title, summary, rating, rating_explanation, findings = community\n",
    "    embedding = gem.embed(summary)\n",
    "\n",
    "    # convert into string\n",
    "    findings = json.dumps(findings)\n",
    "\n",
    "    cq.create_community(\n",
    "        kg, id, title, summary, rating, rating_explanation, findings, embedding\n",
    "    )"
   ]
  },
  {
   "cell_type": "markdown",
   "metadata": {},
   "source": [
    "![image](../.resources/v3_graph(2).png)\n",
    "\n",
    "- The green nodes present community nodes, while the purple nodes present entity nodes.\n",
    "\n",
    "- The entity node and community node have **BELONG_TO** relationship"
   ]
  },
  {
   "cell_type": "code",
   "execution_count": 61,
   "metadata": {},
   "outputs": [
    {
     "data": {
      "text/plain": [
       "[]"
      ]
     },
     "execution_count": 61,
     "metadata": {},
     "output_type": "execute_result"
    }
   ],
   "source": [
    "query = f\"\"\"\n",
    "DROP INDEX community_summary\n",
    "\"\"\"\n",
    "\n",
    "kg.query(query)"
   ]
  },
  {
   "cell_type": "code",
   "execution_count": 62,
   "metadata": {},
   "outputs": [
    {
     "data": {
      "text/plain": [
       "[]"
      ]
     },
     "execution_count": 62,
     "metadata": {},
     "output_type": "execute_result"
    }
   ],
   "source": [
    "query = \"\"\"\n",
    "CREATE VECTOR INDEX community_summary IF NOT EXISTS\n",
    "FOR (c:Community)\n",
    "ON (c.embedding)\n",
    "OPTIONS { indexConfig: {\n",
    "    `vector.dimensions`: 768,\n",
    "    `vector.similarity_function`: 'cosine'    \n",
    "}\n",
    "}\n",
    "\"\"\"\n",
    "\n",
    "kg.query(query)"
   ]
  },
  {
   "cell_type": "markdown",
   "metadata": {},
   "source": [
    "## 6 Community Summaries -> Community Answers -> Global Answer"
   ]
  },
  {
   "cell_type": "markdown",
   "metadata": {},
   "source": [
    "Whenever user enter a query, we will find the community whose summary close to query. For each close community, LLM will generate community answer base on that community summary. \n",
    "\n",
    "After that LLM will generate Global Answer base on list of community answers"
   ]
  },
  {
   "cell_type": "code",
   "execution_count": 3,
   "metadata": {},
   "outputs": [],
   "source": [
    "from EmbeddingModel import GeminiEmbeddingModel\n",
    "import cypher_query as cq\n",
    "importlib.reload(cq)\n",
    "\n",
    "gem = GeminiEmbeddingModel()\n",
    "vector_index = \"community_summary\""
   ]
  },
  {
   "cell_type": "code",
   "execution_count": 4,
   "metadata": {},
   "outputs": [],
   "source": [
    "from prompts import global_answer_prompts, community_answer_prompts\n",
    "from LLM import GeminiModel\n",
    "import time\n",
    "\n",
    "llm = GeminiModel()"
   ]
  },
  {
   "cell_type": "code",
   "execution_count": 14,
   "metadata": {},
   "outputs": [],
   "source": [
    "user_query = \"Who is Ebenezer Scrooge in Christmas Carol\"\n",
    "\n",
    "\n",
    "embedding_query = gem.embed(user_query)\n",
    "communities = cq.get_search_result(kg, vector_index, 20, embedding_query)"
   ]
  },
  {
   "cell_type": "code",
   "execution_count": 15,
   "metadata": {},
   "outputs": [
    {
     "data": {
      "text/plain": [
       "[\"Scrooge's Transformation\",\n",
       " 'This community revolves around Ebenezer Scrooge, a miserly man who is visited by a series of ghosts that lead him on a journey of self-discovery and redemption. The ghosts represent different aspects of his life, including his past, present, and future. Through these encounters, Scrooge learns the importance of kindness, generosity, and the true spirit of Christmas. He ultimately changes his ways, becoming a kinder and more generous person. ',\n",
       " 7.0,\n",
       " \"The impact severity rating is high due to the story's focus on moral transformation and the potential for Scrooge's change to inspire others.\",\n",
       " '[{\"summary\": \"Scrooge\\'s initial character and beliefs\", \"explanation\": \"Ebenezer Scrooge is the central figure in this community, and his initial character is defined by his miserliness, cynicism, and disdain for Christmas. He is shown to be a cold and unsympathetic man who values money above all else.  Scrooge\\'s beliefs are challenged by the ghosts he encounters, who show him the consequences of his actions and the importance of generosity and compassion.\"}, {\"summary\": \"The role of the ghosts\", \"explanation\": \"The ghosts are crucial elements of this community, each representing a different aspect of Scrooge\\'s life. The Ghost of Christmas Past shows him his past experiences and the choices he has made, while the Ghost of Christmas Present reveals the present joy and generosity he is missing. The Ghost of Christmas Yet to Come presents a grim future if he does not change his ways. Each ghost serves as a guide and teacher, helping Scrooge understand the impact of his actions and the importance of changing his ways. The ghosts are ultimately responsible for Scrooge\\'s transformation, leading him to a path of redemption.\"}, {\"summary\": \"Scrooge\\'s transformation and its impact\", \"explanation\": \"Scrooge undergoes a significant transformation throughout the story, becoming a kinder, more generous, and compassionate person. He learns the importance of human connection and the true spirit of Christmas. Scrooge\\'s transformation is significant because it highlights the power of redemption and the possibility for change, even in someone who has been hardened by years of miserliness. His change has a positive impact on those around him, particularly Bob Cratchit and his family, as Scrooge becomes a benefactor and friend to them.\"}, {\"summary\": \"The importance of Christmas\", \"explanation\": \"Christmas is a central theme in this community, and the story explores the true meaning of the holiday. Scrooge\\'s journey is set during the Christmas season, and the ghosts he encounters show him the joy, generosity, and compassion that are essential to the holiday.  Scrooge\\'s transformation ultimately involves embracing the true spirit of Christmas, becoming a more generous and kind person.\"}, {\"summary\": \"The societal context of the story\", \"explanation\": \"The story is set in a time of significant social inequality in England, with a stark contrast between the wealthy and the poor. Scrooge\\'s initial actions and beliefs reflect the attitudes of some in this era, who are indifferent to the plight of the poor. His transformation, however, suggests a possibility for change and a call for greater compassion and generosity towards those less fortunate.\"}]',\n",
       " 0.8967206478118896]"
      ]
     },
     "execution_count": 15,
     "metadata": {},
     "output_type": "execute_result"
    }
   ],
   "source": [
    "communities[0]"
   ]
  },
  {
   "cell_type": "code",
   "execution_count": 17,
   "metadata": {},
   "outputs": [],
   "source": [
    "# go through every community information and store list of answers\n",
    "answers = []\n",
    "\n",
    "for community in communities:\n",
    "    summary, findings = community[1], community[4]\n",
    "    prompt = community_answer_prompts.get_prompts(user_query, [summary, findings])\n",
    "    time.sleep(5)\n",
    "    \n",
    "    try:\n",
    "        answer = llm.generate(prompt)\n",
    "    except:\n",
    "        continue\n",
    "\n",
    "    # gap between each request to prevent 429 error from google client\n",
    "    \n",
    "\n",
    "    # Filter answer\n",
    "    if answer.find(\"<UNKNOWN>\") != -1:\n",
    "        continue\n",
    "\n",
    "    answers.append(answer)"
   ]
  },
  {
   "cell_type": "code",
   "execution_count": 18,
   "metadata": {},
   "outputs": [
    {
     "data": {
      "text/plain": [
       "[\"Ebenezer Scrooge is the main character in the story. He is known for his miserly and cynical personality. He is initially portrayed as a cold and unsympathetic person who values money above all else. Scrooge's beliefs and actions are challenged by the ghosts he encounters, who show him the consequences of his actions and the importance of generosity and compassion.  These ghosts represent different aspects of his life, including his past, present, and future. His transformation throughout the story is significant because it highlights the power of redemption and the possibility for change, even in someone who has been hardened by years of miserliness. \\n\",\n",
       " \"Ebenezer Scrooge is the main character in the story, known for his miserly nature and his dislike of Christmas. He is portrayed as a grumpy and solitary man who contrasts with the joyful and generous spirit of his nephew and his family.  Scrooge's transformation throughout the story is driven by encounters with the Ghosts of Christmas Past, Present, and Future, who reveal to him the consequences of his actions and the importance of kindness and compassion.  The Ghost of Christmas Present, in particular, shows Scrooge the spirit of the holiday and how his actions affect others. \\n\",\n",
       " \"Ebenezer Scrooge is a character from the classic novel *A Christmas Carol* by Charles Dickens. The novel has been adapted numerous times for stage, film, and television, demonstrating its enduring cultural impact.  The information provided mentions Charles Dickens as the author of *A Christmas Carol*, highlighting the novel's historical and literary significance. \\n\",\n",
       " 'Ebenezer Scrooge is Bob Cratchit\\'s employer in \"A Christmas Carol.\"  He is known for his miserly nature and unwillingness to provide adequate compensation for Bob\\'s labor, which contributes to the Cratchit family\\'s financial struggles.  Scrooge\\'s lack of compassion is revealed through his interactions with the Cratchit family, particularly his observation of Tiny Tim and their Christmas dinner. The relationship between Scrooge and the Cratchit family is complex and fraught with tension, highlighting the potential for exploitation and vulnerability within the community. \\n',\n",
       " \"Ebenezer Scrooge is a former employee of Fezziwig and is part of the community centered around Fezziwig's Christmas Eve parties.  Fezziwig is known for his generosity and the festive atmosphere he creates at his parties.  Scrooge's connection to this community stems from his shared experience working for Fezziwig and attending the Christmas Eve party. \\n\"]"
      ]
     },
     "execution_count": 18,
     "metadata": {},
     "output_type": "execute_result"
    }
   ],
   "source": [
    "answers"
   ]
  },
  {
   "cell_type": "code",
   "execution_count": 24,
   "metadata": {},
   "outputs": [
    {
     "name": "stdout",
     "output_type": "stream",
     "text": [
      "Ebenezer Scrooge, the central figure in Charles Dickens's \"A Christmas Carol,\" is a miserly and cynical character renowned for his disdain for Christmas. His initial portrayal as a cold and unsympathetic individual contrasts sharply with the joyful spirit of his nephew and the community. Scrooge's transformation throughout the story is attributed to his encounters with the Ghosts of Christmas Past, Present, and Future, who reveal the consequences of his actions and emphasize the importance of kindness and compassion. These ghosts represent various aspects of his life, including his past, present, and future. One particularly impactful encounter is with the Ghost of Christmas Present, who showcases the spirit of the holiday and how Scrooge's actions affect others. His relationship with Bob Cratchit, his employee, highlights the potential for exploitation and vulnerability within the community. Scrooge's miserliness contributes to the Cratchit family's financial struggles, particularly evident in his observation of Tiny Tim and their Christmas dinner. While Scrooge's initial connection to the community stems from his shared experience working for Fezziwig and attending his Christmas Eve parties, his transformation signifies the power of redemption and the possibility for change, even in someone who has been hardened by years of miserliness.  The enduring cultural impact of \"A Christmas Carol\" is evident in its numerous adaptations for stage, film, and television. \n",
      "\n"
     ]
    }
   ],
   "source": [
    "# Using LLM to generate global answer based on list of answer\n",
    "prompt = global_answer_prompts.get_prompts(answers)\n",
    "global_answer = llm.generate(prompt)\n",
    "\n",
    "print(global_answer)"
   ]
  }
 ],
 "metadata": {
  "kernelspec": {
   "display_name": "rag",
   "language": "python",
   "name": "python3"
  },
  "language_info": {
   "codemirror_mode": {
    "name": "ipython",
    "version": 3
   },
   "file_extension": ".py",
   "mimetype": "text/x-python",
   "name": "python",
   "nbconvert_exporter": "python",
   "pygments_lexer": "ipython3",
   "version": "3.11.9"
  }
 },
 "nbformat": 4,
 "nbformat_minor": 2
}
