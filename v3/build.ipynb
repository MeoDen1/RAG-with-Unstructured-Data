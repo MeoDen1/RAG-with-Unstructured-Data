{
 "cells": [
  {
   "cell_type": "code",
   "execution_count": 1,
   "metadata": {},
   "outputs": [
    {
     "data": {
      "text/plain": [
       "True"
      ]
     },
     "execution_count": 1,
     "metadata": {},
     "output_type": "execute_result"
    }
   ],
   "source": [
    "import pandas as pd\n",
    "import os\n",
    "import json\n",
    "from dotenv import load_dotenv\n",
    "import importlib\n",
    "\n",
    "load_dotenv()"
   ]
  },
  {
   "cell_type": "markdown",
   "metadata": {},
   "source": [
    "# A Graph RAG Approach to Query-Focused Summarization\n",
    "<hr>\n",
    "\n",
    "\n",
    "Reference: [From Local to Global: A Graph RAG Approach to Query-Focused Summarization](https://arxiv.org/abs/2404.16130)\n",
    "<br>\n",
    "\n",
    "![image](../.resources/Query-Focused-Summarization.png)\n"
   ]
  },
  {
   "cell_type": "markdown",
   "metadata": {},
   "source": [
    "<br>\n",
    "<br>\n",
    "<hr>"
   ]
  },
  {
   "cell_type": "markdown",
   "metadata": {},
   "source": [
    "## 1 Source Document -> Text Chunks\n",
    "\n",
    "The chunk size used for this implementation is 600 tokens. According to the paper, using a longer chunk size can reduce the number of LLM calls required for extraction. However, this approach can lead to recall degradation, as the model may not fully extract all relevant information from a longer context window.\n",
    "\n",
    "In dataflow from [Microsoft GraphRAG](https://microsoft.github.io/graphrag/posts/index/1-default_dataflow/), this state is convered in **Phrase 1: Compose TextUnits**\n",
    "\n",
    "![image](../.resources/grag_phrase1.png)"
   ]
  },
  {
   "cell_type": "code",
   "execution_count": 2,
   "metadata": {},
   "outputs": [
    {
     "name": "stdout",
     "output_type": "stream",
     "text": [
      "The Project Gutenberg eBook of A Christmas Carol\n",
      "\n",
      "    \n",
      "\n",
      "This ebook is for the use of anyone anywhere in the United States and\n",
      "\n",
      "most other parts of the world at no cost and with almost no restrictions\n",
      "\n",
      "whatsoever. You may copy it, give it away or re-use it under the terms\n",
      "\n",
      "of the Project Gutenberg License included with this ebook or online\n",
      "\n",
      "at www.gutenberg.org. If you are not located in the United States,\n",
      "\n",
      "you will have to check the laws of the country where you are located\n",
      "\n",
      "before using this eBook.\n",
      "\n",
      "\n",
      "\n",
      "Title: A Christmas Carol\n",
      "\n",
      "\n",
      "\n",
      "Author: Charles Dickens\n",
      "\n",
      "\n",
      "\n",
      "Illustrator: Arthur Rackham\n",
      "\n",
      "\n",
      "\n",
      "Relea\n"
     ]
    }
   ],
   "source": [
    "# load data\n",
    "data = \"\"\n",
    "\n",
    "with open(\"../doc/pg24022.txt\", 'r') as file:\n",
    "    data = '\\n'.join(file.readlines())\n",
    "\n",
    "print(data[:600])"
   ]
  },
  {
   "cell_type": "code",
   "execution_count": 3,
   "metadata": {},
   "outputs": [
    {
     "data": {
      "text/plain": [
       "80"
      ]
     },
     "execution_count": 3,
     "metadata": {},
     "output_type": "execute_result"
    }
   ],
   "source": [
    "from text_splitter import TextSplitter\n",
    "text_splitter = TextSplitter(600, 20)\n",
    "\n",
    "chunks = text_splitter.split_text(data)\n",
    "len(chunks)"
   ]
  },
  {
   "cell_type": "markdown",
   "metadata": {},
   "source": [
    "<hr>\n",
    "\n",
    "![image](../.resources/grag_phrase2.png)\n",
    "\n",
    "<br>"
   ]
  },
  {
   "cell_type": "markdown",
   "metadata": {},
   "source": [
    "\n",
    "\n",
    "## 2 Text extraction -> Element Instances\n",
    "\n",
    "A multipart LLM prompt will be used to identify all the *entites* in the text, including their names, type and description. Then extracting *relationship* between entities"
   ]
  },
  {
   "cell_type": "code",
   "execution_count": 4,
   "metadata": {},
   "outputs": [],
   "source": [
    "from extractor import GraphExtractor\n",
    "from LLM import GeminiModel\n",
    "\n",
    "ge = GraphExtractor(GeminiModel(\"gemini-1.5-flash-001\"))"
   ]
  },
  {
   "cell_type": "code",
   "execution_count": 5,
   "metadata": {},
   "outputs": [
    {
     "name": "stdout",
     "output_type": "stream",
     "text": [
      "(\"entity\"<TD>PROJECT GUTENBERG<TD>ORGANIZATION<TD>Project Gutenberg is an online library that provides free ebooks)\n",
      "<RD>\n",
      "(\"entity\"<TD>CHARLES DICKENS<TD>PERSON<TD>Charles Dickens is the author of A Christmas Carol)\n",
      "<RD>\n",
      "(\"entity\"<TD>ARTHUR RACKHAM<TD>PERSON<TD>Arthur Rackham was the illustrator for A Christmas Carol)\n",
      "<RD>\n",
      "(\"entity\"<TD>J. B. LIPPINCOTT COMPANY<TD>ORGANIZATION<TD>The J. B. Lippincott Company published A Christmas Carol in 1915)\n",
      "<RD>\n",
      "(\"entity\"<TD>SUZANNE SHELL<TD>PERSON<TD>Suzanne Shell was a producer of the Project Gutenberg ebook of A Christmas Carol)\n",
      "<RD>\n",
      "(\"entity\"<TD>JANET BLENKINSHIP<TD>PERSON<TD>Janet Blenkinship was a producer of the Project Gutenberg ebook of A Christmas Carol)\n",
      "<RD>\n",
      "(\"entity\"<TD>ONLINE DISTRIBUTED PROOFREADING TEAM<TD>ORGANIZATION<TD>The Online Distributed Proofreading Team at http://www.pgdp.net contributed to the Project Gutenberg ebook of A Christmas Carol)\n",
      "<RD>\n",
      "(\"relationship\"<TD>CHARLES DICKENS<TD>PROJECT GUTENBERG<TD>Charles Dickens is an author published by Project Gutenberg<TD>3)\n",
      "<RD>\n",
      "(\"relationship\"<TD>ARTHUR RACKHAM<TD>PROJECT GUTENBERG<TD>Arthur Rackham is an artist featured in a book published by Project Gutenberg<TD>3)\n",
      "<RD>\n",
      "(\"relationship\"<TD>J. B. LIPPINCOTT COMPANY<TD>PROJECT GUTENBERG<TD>J. B. Lippincott Company is the original publisher of a book in Project Gutenberg<TD>2)\n",
      "<RD>\n",
      "(\"relationship\"<TD>SUZANNE SHELL<TD>PROJECT GUTENBERG<TD>Suzanne Shell helped produce the Project Gutenberg ebook of A Christmas Carol<TD>7)\n",
      "<RD>\n",
      "(\"relationship\"<TD>JANET BLENKINSHIP<TD>PROJECT GUTENBERG<TD>Janet Blenkinship helped produce the Project Gutenberg ebook of A Christmas Carol<TD>7)\n",
      "<RD>\n",
      "(\"relationship\"<TD>ONLINE DISTRIBUTED PROOFREADING TEAM<TD>PROJECT GUTENBERG<TD>The Online Distributed Proofreading Team helped produce the Project Gutenberg ebook of A Christmas Carol<TD>7)\n",
      " \n",
      "\n"
     ]
    }
   ],
   "source": [
    "print(ge.extract_text(chunks[0], store=False))"
   ]
  },
  {
   "cell_type": "markdown",
   "metadata": {},
   "source": [
    "From the above *entities* and *relationships* extraction using Gemini model. The model is capable of extracting and building information for entities and relationship. \n",
    "\n",
    "However, through many tests, the results are not consistent. Sometimes, the model fails to fully extract entities or relationships from text. This has been mentioned in paper, where the author use multiple rounds of “gleanings” to encourage the LLM to detect any additional entities it may have missed on prior extraction rounds.  \n",
    "\n",
    "**NOTE**: Currently, the function has not included the aboved multi-gleaning process."
   ]
  },
  {
   "cell_type": "code",
   "execution_count": null,
   "metadata": {},
   "outputs": [],
   "source": [
    "# Extract entities and relationships from all chunks\n",
    "for chunk in chunks:\n",
    "    ge.extract_text(chunk)"
   ]
  },
  {
   "cell_type": "code",
   "execution_count": 10,
   "metadata": {},
   "outputs": [
    {
     "data": {
      "text/plain": [
       "['Ebenezer Scrooge is the main character of \"A Christmas Carol\" by Charles Dickens',\n",
       " 'Ebenezer Scrooge is a grasping, covetous old man, the surviving partner of the firm of Scrooge and Marley',\n",
       " 'Ebenezer Scrooge is a miserly man who is visited by the ghost of Jacob Marley.  He is visited by three spirits on Christmas Eve to show him the errors of his ways',\n",
       " 'Ebenezer Scrooge is the protagonist of the story, a miserly and cynical man who is visited by three spirits to learn about the consequences of his actions']"
      ]
     },
     "execution_count": 10,
     "metadata": {},
     "output_type": "execute_result"
    }
   ],
   "source": [
    "# Scrooge is the main character of Christmas Carol\n",
    "ge.temp['\"ENTITY\"<TD>EBENEZER SCROOGE<TD>PERSON']"
   ]
  },
  {
   "cell_type": "code",
   "execution_count": 11,
   "metadata": {},
   "outputs": [],
   "source": [
    "# save temp information\n",
    "\n",
    "json_temp_path = \"../json/christmas_carol_temp.json\"\n",
    "\n",
    "with open(json_temp_path, \"w\") as fp:\n",
    "    json.dump(ge.temp, fp)"
   ]
  },
  {
   "cell_type": "markdown",
   "metadata": {},
   "source": [
    "## 3 Element Instances -> Element Summaries\n",
    "\n",
    "In second phrase of dataflow from [Microsoft GraphRAG](https://microsoft.github.io/graphrag/posts/index/1-default_dataflow/). After retrieving all the *entities* and *relationships* from list of chunks, we will merge a the entity with the same *name* and *type*, generate list of *description*. This also applies for *relationship* by merging any relationship that have the same pair of *source* and *target*.\n",
    "\n",
    "After that, for every merged node, a LLM will be used to summarize list of description into a single description, covers full information of the node."
   ]
  },
  {
   "cell_type": "code",
   "execution_count": 2,
   "metadata": {},
   "outputs": [],
   "source": [
    "from extractor import GraphExtractor\n",
    "from LLM import GeminiModel\n",
    "\n",
    "ge = GraphExtractor(GeminiModel(\"gemini-1.5-flash-001\"))\n",
    "\n",
    "json_temp_path = \"../json/christmas_carol_temp.json\"\n",
    "\n",
    "with open(json_temp_path, \"r\") as fp:\n",
    "    ge.temp = json.load(fp)"
   ]
  },
  {
   "cell_type": "code",
   "execution_count": null,
   "metadata": {},
   "outputs": [],
   "source": [
    "# Call summarize function to merge duplicated entity and relationship\n",
    "ge.summarize(cooldown=2)"
   ]
  },
  {
   "cell_type": "code",
   "execution_count": 6,
   "metadata": {},
   "outputs": [
    {
     "data": {
      "text/plain": [
       "[{'entity_name': 'CHARLES DICKENS',\n",
       "  'entity_type': 'PERSON',\n",
       "  'description': 'Author who wrote A Christmas Carol'},\n",
       " {'entity_name': 'PETER CRATCHIT',\n",
       "  'entity_type': 'PERSON',\n",
       "  'description': \"Bob Cratchit's son\"},\n",
       " {'entity_name': 'BOB CRATCHIT',\n",
       "  'entity_type': 'PERSON',\n",
       "  'description': 'BOB CRATCHIT was a clerk who worked for Ebenezer Scrooge. He was also known to have gone down the Cornhill slide. \\n'},\n",
       " {'entity_name': 'TINY TIM',\n",
       "  'entity_type': 'PERSON',\n",
       "  'description': 'Bob Cratchit\\'s son, referred to as \"Tiny Tim\"'},\n",
       " {'entity_name': 'EBENEZER SCROOGE',\n",
       "  'entity_type': 'PERSON',\n",
       "  'description': 'Ebenezer Scrooge, the surviving partner of the firm of Scrooge and Marley, was a grasping, covetous old man. On Christmas Eve, he was visited by three ghosts who showed him the errors of his ways. \\n'}]"
      ]
     },
     "execution_count": 6,
     "metadata": {},
     "output_type": "execute_result"
    }
   ],
   "source": [
    "ge.data[:5]"
   ]
  },
  {
   "cell_type": "code",
   "execution_count": 7,
   "metadata": {},
   "outputs": [
    {
     "name": "stdout",
     "output_type": "stream",
     "text": [
      "File is successfully saved at: ../json/christmas_carol.json\n"
     ]
    }
   ],
   "source": [
    "# Save to JSON file\n",
    "json_path = \"../json/christmas_carol.json\"\n",
    "ge.save_data(json_path)"
   ]
  },
  {
   "cell_type": "markdown",
   "metadata": {},
   "source": [
    "<br>\n",
    "\n",
    "<hr>\n",
    "\n",
    "![image.png](../.resources/grag_prhase3.png)\n",
    "\n",
    "<br>\n",
    "\n",
    "\n",
    "## 4 Element Summaries -> Graph Communities\n",
    "\n",
    "After thrid step, we can form a usable graph with summarized *entities* and *relationships*. However, in order to provide stronger connection between entity and more efficient when searching, a community detection algorithm will be use to partition the graph into communities of nodes.\n",
    "\n",
    "Each community has to preserve 2 aspect: **Mutually Exclusive** and **Collectively Exhautive**, which means a single node must belong to only one community.\n",
    "\n",
    "In this stage, **Hierarchical Leiden Algorithm** is used to generate a hierarchical of entity communities"
   ]
  },
  {
   "cell_type": "code",
   "execution_count": 26,
   "metadata": {},
   "outputs": [],
   "source": [
    "from langchain_community.graphs import Neo4jGraph\n",
    "\n",
    "NEO4J_URL = os.getenv('NEO4J_URL')\n",
    "NEO4J_USERNAME = os.getenv('NEO4J_USERNAME')\n",
    "NEO4J_PASSWORD = os.getenv('NEO4J_PASSWORD')\n",
    "NEO4J_DATABASE = os.getenv('NEO4J_DATABASE')\n",
    "\n",
    "kg = Neo4jGraph(NEO4J_URL, NEO4J_USERNAME, NEO4J_PASSWORD, NEO4J_DATABASE)"
   ]
  },
  {
   "cell_type": "code",
   "execution_count": 18,
   "metadata": {},
   "outputs": [
    {
     "data": {
      "text/plain": [
       "<module 'cypher_query' from '/home/nguyen/Project/Project - RAG/v3/cypher_query.py'>"
      ]
     },
     "execution_count": 18,
     "metadata": {},
     "output_type": "execute_result"
    }
   ],
   "source": [
    "import cypher_query as cq\n",
    "importlib.reload(cq)"
   ]
  },
  {
   "cell_type": "code",
   "execution_count": 19,
   "metadata": {},
   "outputs": [
    {
     "data": {
      "text/plain": [
       "[]"
      ]
     },
     "execution_count": 19,
     "metadata": {},
     "output_type": "execute_result"
    }
   ],
   "source": [
    "# Reset database\n",
    "query1 = \"\"\"\n",
    "MATCH (a)-[r]->()\n",
    "DETACH DELETE a, r\n",
    "\"\"\"\n",
    "\n",
    "query2 = \"\"\"\n",
    "MATCH (a)\n",
    "DETACH DELETE a\n",
    "\"\"\"\n",
    "\n",
    "kg.query(query1)\n",
    "kg.query(query2)"
   ]
  },
  {
   "cell_type": "code",
   "execution_count": 20,
   "metadata": {},
   "outputs": [],
   "source": [
    "# store json in to graph\n",
    "json_path = \"../json/christmas_carol.json\"\n",
    "with open(json_path, 'r') as fp:\n",
    "    data = json.load(fp)\n",
    "\n",
    "for dt in data:\n",
    "    if \"entity_name\" in dt.keys():\n",
    "        cq.create_entity(kg, dt[\"entity_name\"], dt[\"entity_type\"], dt[\"description\"])\n",
    "    else:\n",
    "        cq.create_relationship(kg, dt[\"source_entity\"], dt[\"target_entity\"], dt[\"description\"])"
   ]
  },
  {
   "cell_type": "markdown",
   "metadata": {},
   "source": [
    "In cypher, in order to perfrom graph embedding and community detection, we have to project the graph"
   ]
  },
  {
   "cell_type": "code",
   "execution_count": 37,
   "metadata": {},
   "outputs": [
    {
     "name": "stderr",
     "output_type": "stream",
     "text": [
      "Received notification from DBMS server: {severity: WARNING} {code: Neo.ClientNotification.Statement.FeatureDeprecationWarning} {category: DEPRECATION} {title: This feature is deprecated and will be removed in future versions.} {description: The query used a deprecated field from a procedure. ('schema' returned by 'gds.graph.drop' is deprecated.)} {position: line: 2, column: 1, offset: 1} for query: '\\nCALL gds.graph.drop(\"christmas_carol\", false)\\n'\n"
     ]
    },
    {
     "data": {
      "text/plain": [
       "[{'graphName': 'christmas_carol',\n",
       "  'database': 'neo4j',\n",
       "  'databaseLocation': 'local',\n",
       "  'memoryUsage': '',\n",
       "  'sizeInBytes': -1,\n",
       "  'nodeCount': 54,\n",
       "  'relationshipCount': 33,\n",
       "  'configuration': {'relationshipProjection': {'RELATED': {'aggregation': 'DEFAULT',\n",
       "     'orientation': 'NATURAL',\n",
       "     'indexInverse': False,\n",
       "     'properties': {},\n",
       "     'type': 'RELATED'}},\n",
       "   'readConcurrency': 4,\n",
       "   'relationshipProperties': {},\n",
       "   'nodeProperties': {},\n",
       "   'jobId': '9490314f-af10-409c-ac9b-a4a90f749c8b',\n",
       "   'nodeProjection': {'Entity': {'label': 'Entity', 'properties': {}}},\n",
       "   'logProgress': True,\n",
       "   'creationTime': neo4j.time.DateTime(2024, 9, 6, 15, 36, 41, 307227013, tzinfo=<UTC>),\n",
       "   'validateRelationships': False,\n",
       "   'sudo': False},\n",
       "  'density': 0.011530398322851153,\n",
       "  'creationTime': neo4j.time.DateTime(2024, 9, 6, 15, 36, 41, 307227013, tzinfo=<UTC>),\n",
       "  'modificationTime': neo4j.time.DateTime(2024, 9, 6, 15, 36, 49, 725340724, tzinfo=<UTC>),\n",
       "  'schema': {'graphProperties': {},\n",
       "   'nodes': {'Entity': {'embedding': 'List of Float (DefaultValue(null), TRANSIENT)'}},\n",
       "   'relationships': {'RELATED': {}}},\n",
       "  'schemaWithOrientation': {'graphProperties': {},\n",
       "   'nodes': {'Entity': {'embedding': 'List of Float (DefaultValue(null), TRANSIENT)'}},\n",
       "   'relationships': {'RELATED': {'direction': 'DIRECTED', 'properties': {}}}}}]"
      ]
     },
     "execution_count": 37,
     "metadata": {},
     "output_type": "execute_result"
    }
   ],
   "source": [
    "query = \"\"\"\n",
    "CALL gds.graph.drop(\"christmas_carol\", false)\n",
    "\"\"\"\n",
    "\n",
    "# Drop graph\n",
    "kg.query(query)"
   ]
  },
  {
   "cell_type": "code",
   "execution_count": 38,
   "metadata": {},
   "outputs": [
    {
     "data": {
      "text/plain": [
       "[{'nodeProjection': {'Entity': {'label': 'Entity', 'properties': {}}},\n",
       "  'relationshipProjection': {'RELATED': {'aggregation': 'DEFAULT',\n",
       "    'orientation': 'UNDIRECTED',\n",
       "    'indexInverse': False,\n",
       "    'properties': {},\n",
       "    'type': 'RELATED'}},\n",
       "  'graphName': 'christmas_carol',\n",
       "  'nodeCount': 54,\n",
       "  'relationshipCount': 66,\n",
       "  'projectMillis': 20}]"
      ]
     },
     "execution_count": 38,
     "metadata": {},
     "output_type": "execute_result"
    }
   ],
   "source": [
    "# https://neo4j.com/docs/graph-data-science/current/management-ops/graph-creation/graph-project/\n",
    "\n",
    "query = \"\"\"\n",
    "CALL gds.graph.project(\n",
    "    \"christmas_carol\",\n",
    "    [\"Entity\"],\n",
    "    {\n",
    "        RELATED: {orientation: \"UNDIRECTED\"}\n",
    "    }\n",
    ")\n",
    "\"\"\"\n",
    "\n",
    "kg.query(query)"
   ]
  },
  {
   "cell_type": "markdown",
   "metadata": {},
   "source": [
    "Perform **Node2Vec Graph Embedding**, embedding dim = 128"
   ]
  },
  {
   "cell_type": "code",
   "execution_count": 39,
   "metadata": {},
   "outputs": [
    {
     "data": {
      "text/plain": [
       "[{'nodeCount': 54,\n",
       "  'nodePropertiesWritten': 54,\n",
       "  'lossPerIteration': [68950.4049070634],\n",
       "  'mutateMillis': 0,\n",
       "  'postProcessingMillis': 0,\n",
       "  'preProcessingMillis': 0,\n",
       "  'computeMillis': 1445,\n",
       "  'configuration': {'walkLength': 80,\n",
       "   'walkBufferSize': 1000,\n",
       "   'mutateProperty': 'embedding',\n",
       "   'jobId': '4acbdb6a-c133-4c67-b9de-d9431bcdf4bd',\n",
       "   'iterations': 1,\n",
       "   'returnFactor': 1.0,\n",
       "   'negativeSamplingRate': 5,\n",
       "   'windowSize': 10,\n",
       "   'sudo': False,\n",
       "   'positiveSamplingFactor': 0.001,\n",
       "   'inOutFactor': 1.0,\n",
       "   'logProgress': True,\n",
       "   'negativeSamplingExponent': 0.75,\n",
       "   'nodeLabels': ['*'],\n",
       "   'initialLearningRate': 0.025,\n",
       "   'concurrency': 4,\n",
       "   'relationshipTypes': ['*'],\n",
       "   'walksPerNode': 10,\n",
       "   'embeddingInitializer': 'NORMALIZED',\n",
       "   'embeddingDimension': 128,\n",
       "   'minLearningRate': 0.0001}}]"
      ]
     },
     "execution_count": 39,
     "metadata": {},
     "output_type": "execute_result"
    }
   ],
   "source": [
    "query = \"\"\"\n",
    "CALL gds.node2vec.mutate(\n",
    "    \"christmas_carol\",\n",
    "    {\n",
    "        mutateProperty: \"embedding\"\n",
    "    }\n",
    ")\n",
    "\"\"\"\n",
    "\n",
    "kg.query(query)"
   ]
  },
  {
   "cell_type": "code",
   "execution_count": 44,
   "metadata": {},
   "outputs": [
    {
     "name": "stdout",
     "output_type": "stream",
     "text": [
      "[{'name': 'CHARLES DICKENS', 'embedding': [-0.0006625357200391591, 0.003252149559557438, -0.0005169273936189711, -0.0008708680979907513, 0.0021685257088392973, -0.0026938170194625854, 0.003741367720067501, 0.00023004096874501556, 0.0015758476220071316, -0.00196857494302094, 0.001155876787379384, -0.003007294610142708, 0.0005062248674221337, -0.0017855972982943058, -0.0006256607011891901, -7.301349251065403e-05, -0.0015275574987754226, -0.0005493515636771917, 0.0007662192801944911, -0.0030680871568620205, -0.0031942271161824465, -0.0002033599157584831, 0.0025594306644052267, 0.0027236654423177242, -0.0008579838322475553, -0.0024355833884328604, 0.0015777118969708681, 0.0018124784110113978, -0.0005510137416422367, -0.003808950772508979, -0.0037129016127437353, 0.0014707979280501604, 0.0030115568079054356, -0.002740982687100768, -0.003066030330955982, 0.0003150413103867322, 0.0014083667192608118, -0.0015247213887050748, 0.0006097061559557915, 0.0019224269781261683, -0.0027954697143286467, 0.0004239732807036489, -0.003516948316246271, 0.0035101231187582016, -0.000590295996516943, 0.0014402265660464764, 0.001263361657038331, 0.0030538756400346756, 0.0038981500547379255, 0.0021354430355131626, 0.0033835209906101227, 0.0021298304200172424, -0.0019805291667580605, 0.0015002904692664742, 0.0007954167667776346, 0.0018514646217226982, 0.001170501345768571, 0.0013702845899388194, -0.003034003544598818, 0.0017933723283931613, 0.002837922191247344, -0.0030770283192396164, -0.0023519278038293123, 0.0011201325105503201, 0.003744994755834341, -0.0025273021310567856, 0.0007147021824494004, -0.0014783996157348156, 0.001119425636716187, -0.002736178459599614, -0.002523347269743681, 0.000808225478976965, -0.0017572587821632624, 0.00023600125859957188, -0.002925862092524767, 0.0010163962142542005, 0.00040718683158047497, 0.0005333391018211842, -0.0011282619088888168, 0.0021768491715192795, -0.00018092722166329622, -0.002522287890315056, -0.0005858737858943641, -0.0028036327566951513, 0.002410151297226548, 0.000138060117023997, -0.0008300324552692473, 0.0014068017480894923, -0.0009864486055448651, -0.0021857693791389465, -0.00031039013992995024, -0.001191572519019246, 0.0022404883056879044, -0.00034630674053914845, -0.0023210421204566956, -0.0019357709679752588, -0.0007165615679696202, 0.0026695539709180593, -0.003340295981615782, 0.0030129689257591963, 0.003520694561302662, -0.00018370411999057978, -0.0009676046320237219, -0.00107573124114424, 0.0038937197532504797, -0.002119435928761959, -0.0010163721162825823, 0.0008559533744119108, 0.002759972121566534, 0.0021955957636237144, -0.002093004295602441, -0.0003949189558625221, 0.00028990855207666755, 0.0025270681362599134, 0.001026769750751555, 0.0004318818391766399, -8.483474812237546e-05, -0.002157301642000675, -0.001401356654241681, -0.0012697253841906786, -0.00015453086234629154, 0.003630387829616666, 0.0014757621102035046, 0.0032447183039039373, 0.00025466608349233866, -0.0029049606528133154, -9.184784721583128e-05, -0.0002716194139793515]}, {'name': 'PETER CRATCHIT', 'embedding': [-0.0006632355507463217, -0.003235784824937582, -0.003873978741466999, -0.0025718053802847862, -0.002751703606918454, 0.0025632046163082123, 0.0004485208773985505, -0.00012133520795032382, 0.0021071943920105696, -0.002001130022108555, 0.0021107234060764313, -0.00129931909032166, 0.0016582199605181813, 0.001989758340641856, 0.003821427933871746, -0.00158825539983809, 0.0028115208260715008, 0.0036037773825228214, 0.0005115773528814316, -0.00022863100457470864, 0.0023075321223586798, 0.0022809754591435194, -0.00323132099583745, 0.001082908478565514, -0.0014307384844869375, -6.73619651934132e-05, 0.0012263752287253737, -0.0009592418791726232, 0.00291117699816823, -0.0028569884598255157, 0.0013245161389932036, -0.0027295928448438644, -0.00249115121550858, -0.0026017408818006516, 0.0025206650607287884, -0.0033106503542512655, 0.0006453645182773471, -0.002329359296709299, 0.0010452627902850509, -0.0030912794172763824, 0.0008018731023184955, 0.0032943631522357464, -0.0013503262307494879, 0.0024112083483487368, 0.002337898127734661, -0.00011691059626173228, 0.0021240301430225372, 0.0027428106404840946, -0.002250210614874959, -0.0018172906711697578, -0.0031523064244538546, -0.0003681595844682306, 0.0010528848506510258, -0.0029608337208628654, 0.0016542606754228473, 0.002985761733725667, -4.54171713499818e-05, 0.0007149101584218442, 0.0018453362863510847, -0.003510067705065012, -0.001328364829532802, 0.0014838926726952195, -0.002039675833657384, 0.0023546575102955103, 0.0019330099457874894, 0.003023954341188073, -0.0016593210166320205, -0.0010593876941129565, -0.002037817845121026, 0.003669452155008912, 0.00017900075181387365, 0.0020376762840896845, -0.00032533842022530735, -0.0017264296766370535, 0.0028659519739449024, 0.0011035293573513627, -0.001042020390741527, 0.0010714083909988403, -0.0037711826153099537, -0.002651493763551116, -0.00252778478898108, 0.003594191512092948, 0.0006320435204543173, -0.003817837219685316, -0.0026430420111864805, -0.002700738376006484, -0.0034926775842905045, 0.0012773115886375308, -0.0021946276538074017, -0.0007875958690419793, -0.0010512755252420902, -0.0023910943418741226, 0.00023024757683742791, -0.0013464564690366387, -0.0008279869216494262, 0.002538098255172372, 0.002263098256662488, 0.003408892545849085, 0.0010841136099770665, -0.0004764131153933704, -0.0018420031992718577, -0.0017277300357818604, -0.0017487454460933805, 0.0030404641292989254, -0.0012455893447622657, -0.0029194862581789494, 0.003255038522183895, 0.0029587221797555685, -0.0010746538173407316, 0.002462701639160514, 0.0015346506843343377, 0.00041683277231641114, -0.0018514164257794619, -0.0004272398946341127, 0.0022055646404623985, 0.001682912465184927, 0.003302237717434764, -0.00048251778935082257, 0.0037079560570418835, 0.0019393995171412826, -0.0020612378139048815, -0.002160500967875123, 0.002784094773232937, 0.003294428111985326, 0.0006963658961467445, -0.0001701462606433779, 0.002775744302198291, 0.0018641460919752717]}, {'name': 'BOB CRATCHIT', 'embedding': [0.013706295751035213, -0.03405039757490158, 0.10049374401569366, 0.1415947526693344, 0.10851319134235382, -0.13724659383296967, -0.12324675172567368, 0.19314701855182648, -0.028208987787365913, -0.07884137332439423, 0.1548461616039276, -0.0386994332075119, -0.044988080859184265, -0.09119927138090134, 0.23985755443572998, 0.1417931169271469, 0.22039951384067535, -0.21611474454402924, 0.011430908925831318, 0.1733313947916031, -0.40103238821029663, 0.12797409296035767, -0.02723381109535694, 0.0052632614970207214, -0.02007276937365532, -0.0998649150133133, 0.04430101439356804, 0.24009504914283752, 0.15195342898368835, -0.10867049545049667, 0.23524847626686096, 0.0607544407248497, 0.2570284307003021, 0.004780077841132879, -0.09203724563121796, 0.09516452997922897, -0.1370103359222412, 0.11901857703924179, -0.24600359797477722, -0.07684428244829178, 0.25245487689971924, -0.23145301640033722, -0.14149333536624908, -0.01661558449268341, 0.03611854463815689, -0.20481179654598236, 0.2688964605331421, -0.3522682785987854, -0.023021938279271126, 0.10739678144454956, 0.09995707124471664, 0.0024290697183459997, -0.08895719796419144, -0.23904216289520264, 0.44875776767730713, -0.04624500125646591, -0.09667079150676727, 0.16310007870197296, 0.11395499110221863, -0.12373892217874527, 0.029358910396695137, 0.30476558208465576, 0.19401390850543976, -0.1354466676712036, -0.4381776750087738, 0.07769452035427094, -0.319857656955719, -0.08686526864767075, 0.03887508809566498, -0.19200317561626434, 0.17724576592445374, 0.05107882246375084, -0.25060760974884033, -0.0541299469769001, -0.012027218006551266, -0.412736177444458, -0.20026752352714539, -0.06390154361724854, -0.05793903395533562, 0.06445220857858658, -0.15354956686496735, 0.013496716506779194, 0.06375297158956528, 0.21309393644332886, 0.21407213807106018, -0.06486988812685013, -0.11510621011257172, 0.08150312304496765, -0.17133519053459167, 0.08972831070423126, 0.06447712332010269, -0.1793912649154663, -0.06418298929929733, 0.11923171579837799, 0.10014786571264267, -0.0636104941368103, 0.13546612858772278, -0.00794107373803854, -0.25915583968162537, 0.22553110122680664, 0.1023850291967392, -0.1549723893404007, -0.028892233967781067, 0.05328020080924034, 0.12935571372509003, 0.052037544548511505, -0.0015459872083738446, 0.08729681372642517, 0.14455842971801758, -0.2722190022468567, -0.11594947427511215, -0.1512233167886734, -0.16161350905895233, 0.10142222791910172, 0.10196457803249359, 0.13109610974788666, -0.1437605619430542, -0.1365598887205124, -0.01772264949977398, 0.050086621195077896, -0.20656991004943848, -0.042081791907548904, 0.01855253055691719, 0.04539383202791214, -0.24749918282032013, -0.09356670081615448, -0.11775121837854385, 0.16929373145103455]}, {'name': 'JACOB', 'embedding': [0.09058719873428345, -0.2371002733707428, 0.1994544416666031, -0.08045104146003723, 0.21294692158699036, -0.4540637731552124, -0.10007136315107346, 0.6890195608139038, 0.10784021764993668, -0.38285717368125916, -0.09587707370519638, -0.013235417194664478, -0.07681281864643097, -0.36763522028923035, 0.14074435830116272, -0.1653416007757187, 0.5268129706382751, 0.028673416003584862, 0.019628165289759636, 0.23827122151851654, -0.27476024627685547, -0.2735525965690613, 0.1723819375038147, -0.6726145148277283, 0.14706988632678986, 0.11986374855041504, -0.26465192437171936, -0.1898956596851349, 0.5128655433654785, 0.24281729757785797, 0.09306227415800095, -0.0033523172605782747, 0.16318926215171814, 0.14523577690124512, 0.0009557876619510353, -0.5168704986572266, -0.2131398320198059, -0.05796713009476662, 0.06915125250816345, -0.3526533246040344, -0.1071167066693306, -0.5411738157272339, -0.18449951708316803, -0.09726884216070175, -0.39712196588516235, 0.10725802183151245, 0.42728492617607117, 0.0452180877327919, 0.6034134030342102, -0.8409712910652161, 0.5398209095001221, 0.25459662079811096, 0.34272822737693787, -0.0966176986694336, 0.41287997364997864, -0.05191655829548836, 0.3724902272224426, 0.09292400628328323, -0.49387282133102417, 0.1654970794916153, -0.33719757199287415, -0.09499505162239075, 0.3091876208782196, -0.07201824337244034, -0.3189481496810913, -0.13678894937038422, 0.13257038593292236, -0.1282682716846466, -0.0946740210056305, -0.15474867820739746, 0.7842393517494202, -0.34417060017585754, -0.9765507578849792, -0.31691277027130127, -0.20748881995677948, -0.2823546528816223, 0.3004191815853119, -0.24411393702030182, 0.3337264657020569, 0.28264591097831726, 0.17960579693317413, -0.5040270686149597, -0.41880181431770325, -0.13462474942207336, 0.3922700881958008, -0.14751224219799042, 0.33480381965637207, -0.336302250623703, 0.4326656758785248, -0.009469966404139996, 0.5969265103340149, 0.36422815918922424, -0.44359397888183594, 0.23059546947479248, -0.5084839463233948, 0.08063749223947525, -0.3176296055316925, 0.15714052319526672, -0.3806377053260803, -0.1002805307507515, 0.06584346294403076, -0.0587870217859745, 0.0769018828868866, 0.5170816779136658, 0.11348483711481094, -0.15650898218154907, 0.5484927892684937, -0.1600514054298401, 0.29402604699134827, -0.21007566154003143, 0.14372436702251434, -0.40763527154922485, 0.2920972406864166, -0.01382899098098278, -0.24622903764247894, -0.12281616032123566, -0.12216053158044815, -0.5969184041023254, 0.2870030403137207, 0.4356057047843933, 0.22863194346427917, 0.27676284313201904, 0.34524768590927124, 0.390639066696167, 0.04659196734428406, -0.2590830624103546, -0.6542178988456726, -0.23627851903438568]}, {'name': 'TINY TIM', 'embedding': [-0.0006877304404042661, -0.00375098898075521, 0.0036292225122451782, 0.00039539270801469684, -0.0030847364105284214, -0.000941033533308655, 0.0023863869719207287, 0.003205500543117523, -0.0027331660967320204, -0.0031405542977154255, -0.00353214587084949, 0.0037923306226730347, 0.0029155509546399117, 0.00131469767075032, 0.003219527192413807, 6.577565363841131e-05, -0.0015707385027781129, 0.0005257928860373795, -0.0005883895209990442, -0.002410162938758731, -0.0004433894355315715, 0.003295215545222163, -0.0027826321311295033, -0.0016560869989916682, 0.0019603471737354994, -0.003117108019068837, -0.003257914911955595, 0.0035930483136326075, -0.0009121464681811631, -0.0007883135695010424, -0.0020533609203994274, -0.0013057691976428032, 0.000226574920816347, 0.002271717181429267, 0.002742506330832839, 0.002602642634883523, -0.002622217871248722, 0.0007583113620057702, 0.000664744817186147, 0.0011164949974045157, 0.0017088723834604025, 0.0021955103147774935, -0.003643548581749201, 0.003011689055711031, 0.003262190381065011, 7.078851922415197e-05, 0.0009974213317036629, -0.00033196015283465385, 0.0013071668799966574, 0.0004620294494088739, 0.0024687403347343206, -0.0018603048520162702, -0.00215262733399868, -0.0028501790948212147, 0.0004637973033823073, 0.0036236632149666548, -0.003540066536515951, 0.0012143065687268972, 0.0007472328725270927, -0.0016304678283631802, 0.001289088511839509, -0.002946373773738742, 0.0010766382329165936, -0.0013119688956066966, 0.0010135460179299116, 0.0020054292399436235, 0.0011873708572238684, -0.0020189660135656595, -0.003166337264701724, 0.0013040282065048814, 0.0010111817391589284, -0.001806548680178821, 0.002916875993832946, -9.90093030850403e-05, 0.002454441273584962, -0.0036593065597116947, 0.0029232213273644447, -0.0035336685832589865, -0.0025234005879610777, 0.0002315061428816989, 0.0012696990743279457, -0.0010790241649374366, -0.0036158496513962746, -0.00025249217287637293, 0.0001826922525651753, -0.0004961832310073078, -0.002935259137302637, -0.0032548485323786736, 0.0023941004183143377, 0.001273475238122046, -0.0035447655245661736, 0.00250064255669713, 0.00018431938951835036, 0.002710803644731641, -0.003258554730564356, 0.002873522462323308, -0.00282380566932261, -0.001964255701750517, -0.0003115505678579211, 0.0023952163755893707, -0.002036428777500987, -0.0010811337269842625, 0.0021613282151520252, -0.0013301973231136799, -0.001433904399164021, 0.00032875206670723855, -0.003495588432997465, -0.00156937085557729, -0.002474058186635375, -0.003813593415543437, 0.003502574982121587, -0.0024218519683927298, 0.0013272080104798079, -0.002265515737235546, -0.003411615267395973, -0.001406017574481666, -0.003150224918499589, 0.003447412047535181, 0.0028464023489505053, -0.0029287273064255714, 0.0015165203949436545, -0.0017166039906442165, 0.0017007358837872744, -0.0027782339602708817, 0.0005308600375428796, 0.0017983560683205724, 0.001578967785462737, -0.0015090644592419267]}]\n"
     ]
    }
   ],
   "source": [
    "# https://neo4j.com/docs/graph-data-science/current/management-ops/graph-reads/graph-stream-nodes/\n",
    "\n",
    "query = \"\"\"\n",
    "CALL gds.graph.nodeProperty.stream(\n",
    "    \"christmas_carol\",\n",
    "    \"embedding\"\n",
    ")\n",
    "YIELD nodeId, propertyValue, nodeLabels\n",
    "RETURN gds.util.asNode(nodeId).name AS name, propertyValue AS embedding\n",
    "LIMIT 5\n",
    "\"\"\"\n",
    "\n",
    "print(kg.query(query))"
   ]
  },
  {
   "cell_type": "markdown",
   "metadata": {},
   "source": [
    "Community detection using **Leiden Algorithm**"
   ]
  },
  {
   "cell_type": "code",
   "execution_count": 50,
   "metadata": {},
   "outputs": [
    {
     "data": {
      "text/plain": [
       "[{'name': 'CHARLES DICKENS', 'communityId': 28},\n",
       " {'name': 'PETER CRATCHIT', 'communityId': 29},\n",
       " {'name': 'BOB CRATCHIT', 'communityId': 19},\n",
       " {'name': 'JACOB', 'communityId': 26},\n",
       " {'name': 'TINY TIM', 'communityId': 27},\n",
       " {'name': 'EBENEZER SCROOGE', 'communityId': 26},\n",
       " {'name': 'TIM CRATCHIT', 'communityId': 19},\n",
       " {'name': 'MR. FEZZIWIG', 'communityId': 30},\n",
       " {'name': 'FRED', 'communityId': 31},\n",
       " {'name': 'GHOST OF CHRISTMAS PAST', 'communityId': 34},\n",
       " {'name': 'GHOST OF CHRISTMAS PRESENT', 'communityId': 35},\n",
       " {'name': 'GHOST OF CHRISTMAS YET TO COME', 'communityId': 32},\n",
       " {'name': 'GHOST OF JACOB MARLEY', 'communityId': 33},\n",
       " {'name': 'JOE', 'communityId': 20},\n",
       " {'name': 'MR. TOPPER', 'communityId': 21},\n",
       " {'name': 'DICK WILKINS', 'communityId': 22},\n",
       " {'name': 'BELLE', 'communityId': 17},\n",
       " {'name': 'CAROLINE', 'communityId': 18},\n",
       " {'name': 'MRS. CRATCHIT', 'communityId': 19},\n",
       " {'name': 'BELINDA CRATCHIT', 'communityId': 19},\n",
       " {'name': 'MARTHA CRATCHIT', 'communityId': 19},\n",
       " {'name': 'MRS. DILBER', 'communityId': 24},\n",
       " {'name': 'FAN', 'communityId': 25},\n",
       " {'name': 'MRS. FEZZIWIG', 'communityId': 23},\n",
       " {'name': 'SCROOGE', 'communityId': 2},\n",
       " {'name': 'MARLEY', 'communityId': 2},\n",
       " {'name': 'THREE SPIRITS', 'communityId': 1},\n",
       " {'name': 'TIM', 'communityId': 5},\n",
       " {'name': \"'CHANGE\", 'communityId': 6},\n",
       " {'name': 'PHANTASMS', 'communityId': 2},\n",
       " {'name': 'HAMLET', 'communityId': 3},\n",
       " {'name': 'CHRISTMAS EVE', 'communityId': 1},\n",
       " {'name': 'CITY', 'communityId': 4},\n",
       " {'name': \"SCROOGE'S NEPHEW\", 'communityId': 2},\n",
       " {'name': 'GHOST', 'communityId': 1},\n",
       " {'name': 'CHRISTMAS', 'communityId': 2},\n",
       " {'name': 'UNCLE', 'communityId': 2},\n",
       " {'name': 'CLERK', 'communityId': 2},\n",
       " {'name': 'PARLIAMENT', 'communityId': 2},\n",
       " {'name': 'TWO GENTLEMEN', 'communityId': 2},\n",
       " {'name': 'MR. MARLEY', 'communityId': 2},\n",
       " {'name': 'CHRISTIAN', 'communityId': 16},\n",
       " {'name': 'POOR', 'communityId': 12},\n",
       " {'name': 'CHRISTIAN CHEER', 'communityId': 12},\n",
       " {'name': 'SURPLUS POPULATION', 'communityId': 13},\n",
       " {'name': 'GOTHIC WINDOW', 'communityId': 14},\n",
       " {'name': 'LABOURERS', 'communityId': 15},\n",
       " {'name': 'LORD MAYOR', 'communityId': 8},\n",
       " {'name': \"LORD MAYOR'S HOUSEHOLD\", 'communityId': 8},\n",
       " {'name': 'BOBS CRATCHIT', 'communityId': 8},\n",
       " {'name': 'CAMDEN TOWN', 'communityId': 19},\n",
       " {'name': 'CORNHILL', 'communityId': 11},\n",
       " {'name': 'CITY OF LONDON', 'communityId': 2},\n",
       " {'name': \"MARLEY'S GHOST\", 'communityId': 9}]"
      ]
     },
     "execution_count": 50,
     "metadata": {},
     "output_type": "execute_result"
    }
   ],
   "source": [
    "query = \"\"\"\n",
    "CALL gds.leiden.stream(\n",
    "    \"christmas_carol\"\n",
    ")\n",
    "YIELD nodeId, communityId\n",
    "RETURN gds.util.asNode(nodeId).name AS name, communityId\n",
    "\"\"\"\n",
    "\n",
    "kg.query(query)"
   ]
  },
  {
   "cell_type": "code",
   "execution_count": 47,
   "metadata": {},
   "outputs": [
    {
     "data": {
      "text/plain": [
       "[{'communityCount': 33,\n",
       "  'modularity': 0.497704315886134,\n",
       "  'modularities': [0.39210284664830125, 0.497704315886134]}]"
      ]
     },
     "execution_count": 47,
     "metadata": {},
     "output_type": "execute_result"
    }
   ],
   "source": [
    "# https://neo4j.com/docs/graph-data-science/current/algorithms/leiden/\n",
    "\n",
    "query = \"\"\"\n",
    "CALL gds.leiden.mutate(\n",
    "    \"christmas_carol\",\n",
    "    {\n",
    "        mutateProperty: \"communityID\"\n",
    "    }\n",
    ")\n",
    "YIELD communityCount, modularity, modularities\n",
    "\"\"\"\n",
    "\n",
    "kg.query(query)"
   ]
  },
  {
   "cell_type": "code",
   "execution_count": null,
   "metadata": {},
   "outputs": [],
   "source": [
    "query = \"\"\"\n",
    "\"\"\""
   ]
  }
 ],
 "metadata": {
  "kernelspec": {
   "display_name": "rag",
   "language": "python",
   "name": "python3"
  },
  "language_info": {
   "codemirror_mode": {
    "name": "ipython",
    "version": 3
   },
   "file_extension": ".py",
   "mimetype": "text/x-python",
   "name": "python",
   "nbconvert_exporter": "python",
   "pygments_lexer": "ipython3",
   "version": "3.11.9"
  }
 },
 "nbformat": 4,
 "nbformat_minor": 2
}
