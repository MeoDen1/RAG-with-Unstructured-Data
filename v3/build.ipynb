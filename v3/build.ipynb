{
 "cells": [
  {
   "cell_type": "code",
   "execution_count": 18,
   "metadata": {},
   "outputs": [
    {
     "data": {
      "text/plain": [
       "True"
      ]
     },
     "execution_count": 18,
     "metadata": {},
     "output_type": "execute_result"
    }
   ],
   "source": [
    "import pandas as pd\n",
    "import os\n",
    "import json\n",
    "from dotenv import load_dotenv\n",
    "\n",
    "load_dotenv()"
   ]
  },
  {
   "cell_type": "markdown",
   "metadata": {},
   "source": [
    "# A Graph RAG Approach to Query-Focused Summarization\n",
    "<hr>\n",
    "\n",
    "\n",
    "Reference: [From Local to Global: A Graph RAG Approach to Query-Focused Summarization](https://arxiv.org/abs/2404.16130)\n",
    "<br>\n",
    "\n",
    "![image](../.resources/Query-Focused-Summarization.png)\n"
   ]
  },
  {
   "cell_type": "markdown",
   "metadata": {},
   "source": [
    "**Benchmark Dataset**\n",
    "\n",
    "The benchmark dataset to test RAG application is [MultiHop-RAG](https://arxiv.org/abs/2401.15391): a QA dataset to evaluate retrieval and reasoning across documents with metadata in the RAG pipelines. It contains 2556 queries, with evidence for each query distributed across 2 to 4 documents. The queries also involve document metadata, reflecting complex scenarios commonly found in real-world RAG applications."
   ]
  },
  {
   "cell_type": "code",
   "execution_count": 19,
   "metadata": {},
   "outputs": [
    {
     "data": {
      "text/html": [
       "<div>\n",
       "<style scoped>\n",
       "    .dataframe tbody tr th:only-of-type {\n",
       "        vertical-align: middle;\n",
       "    }\n",
       "\n",
       "    .dataframe tbody tr th {\n",
       "        vertical-align: top;\n",
       "    }\n",
       "\n",
       "    .dataframe thead th {\n",
       "        text-align: right;\n",
       "    }\n",
       "</style>\n",
       "<table border=\"1\" class=\"dataframe\">\n",
       "  <thead>\n",
       "    <tr style=\"text-align: right;\">\n",
       "      <th></th>\n",
       "      <th>query</th>\n",
       "      <th>answer</th>\n",
       "      <th>question_type</th>\n",
       "      <th>evidence_list</th>\n",
       "    </tr>\n",
       "  </thead>\n",
       "  <tbody>\n",
       "    <tr>\n",
       "      <th>0</th>\n",
       "      <td>Who is the individual associated with the cryp...</td>\n",
       "      <td>Sam Bankman-Fried</td>\n",
       "      <td>inference_query</td>\n",
       "      <td>[{'title': 'The FTX trial is bigger than Sam B...</td>\n",
       "    </tr>\n",
       "    <tr>\n",
       "      <th>1</th>\n",
       "      <td>Which individual is implicated in both inflati...</td>\n",
       "      <td>Donald Trump</td>\n",
       "      <td>inference_query</td>\n",
       "      <td>[{'title': 'Donald Trump defrauded banks with ...</td>\n",
       "    </tr>\n",
       "    <tr>\n",
       "      <th>2</th>\n",
       "      <td>Who is the figure associated with generative A...</td>\n",
       "      <td>Sam Altman</td>\n",
       "      <td>inference_query</td>\n",
       "      <td>[{'title': 'OpenAI's ex-chairman accuses board...</td>\n",
       "    </tr>\n",
       "    <tr>\n",
       "      <th>3</th>\n",
       "      <td>Do the TechCrunch article on software companie...</td>\n",
       "      <td>Yes</td>\n",
       "      <td>comparison_query</td>\n",
       "      <td>[{'title': 'Here’s how Rainforest, a budding S...</td>\n",
       "    </tr>\n",
       "    <tr>\n",
       "      <th>4</th>\n",
       "      <td>Which online betting platform provides a welco...</td>\n",
       "      <td>Caesars Sportsbook</td>\n",
       "      <td>inference_query</td>\n",
       "      <td>[{'title': '2023 Kentucky online sports bettin...</td>\n",
       "    </tr>\n",
       "  </tbody>\n",
       "</table>\n",
       "</div>"
      ],
      "text/plain": [
       "                                               query              answer  \\\n",
       "0  Who is the individual associated with the cryp...   Sam Bankman-Fried   \n",
       "1  Which individual is implicated in both inflati...        Donald Trump   \n",
       "2  Who is the figure associated with generative A...          Sam Altman   \n",
       "3  Do the TechCrunch article on software companie...                 Yes   \n",
       "4  Which online betting platform provides a welco...  Caesars Sportsbook   \n",
       "\n",
       "      question_type                                      evidence_list  \n",
       "0   inference_query  [{'title': 'The FTX trial is bigger than Sam B...  \n",
       "1   inference_query  [{'title': 'Donald Trump defrauded banks with ...  \n",
       "2   inference_query  [{'title': 'OpenAI's ex-chairman accuses board...  \n",
       "3  comparison_query  [{'title': 'Here’s how Rainforest, a budding S...  \n",
       "4   inference_query  [{'title': '2023 Kentucky online sports bettin...  "
      ]
     },
     "execution_count": 19,
     "metadata": {},
     "output_type": "execute_result"
    }
   ],
   "source": [
    "df = pd.read_json(\"hf://datasets/yixuantt/MultiHopRAG/MultiHopRAG.json\")\n",
    "df.head()"
   ]
  },
  {
   "cell_type": "code",
   "execution_count": 20,
   "metadata": {},
   "outputs": [
    {
     "data": {
      "text/plain": [
       "{'query': 'Who is the individual associated with the cryptocurrency industry facing a criminal trial on fraud and conspiracy charges, as reported by both The Verge and TechCrunch, and is accused by prosecutors of committing fraud for personal gain?',\n",
       " 'answer': 'Sam Bankman-Fried',\n",
       " 'question_type': 'inference_query',\n",
       " 'evidence_list': [{'title': 'The FTX trial is bigger than Sam Bankman-Fried',\n",
       "   'author': 'Elizabeth Lopatto',\n",
       "   'url': 'https://www.theverge.com/2023/9/28/23893269/ftx-sam-bankman-fried-trial-evidence-crypto',\n",
       "   'source': 'The Verge',\n",
       "   'category': 'technology',\n",
       "   'published_at': '2023-09-28T12:00:00+00:00',\n",
       "   'fact': 'Before his fall, Bankman-Fried made himself out to be the Good Boy of crypto — the trustworthy face of a sometimes-shady industry.'},\n",
       "  {'title': 'SBF’s trial starts soon, but how did he — and FTX — get here?',\n",
       "   'author': 'Jacquelyn Melinek',\n",
       "   'url': 'https://techcrunch.com/2023/10/01/ftx-lawsuit-timeline/',\n",
       "   'source': 'TechCrunch',\n",
       "   'category': 'technology',\n",
       "   'published_at': '2023-10-01T14:00:29+00:00',\n",
       "   'fact': 'The highly anticipated criminal trial for Sam Bankman-Fried, former CEO of bankrupt crypto exchange FTX, started Tuesday to determine whether he’s guilty of seven counts of fraud and conspiracy.'},\n",
       "  {'title': 'Sam Altman backs teens’ startup, Google unveils the Pixel 8 and TikTok tests an ad-free tier',\n",
       "   'author': 'Kyle Wiggers',\n",
       "   'url': 'https://techcrunch.com/2023/10/07/sam-altman-backs-a-teens-startup-google-unveils-the-pixel-8-and-tiktok-tests-an-ad-free-tier/',\n",
       "   'source': 'TechCrunch',\n",
       "   'category': 'technology',\n",
       "   'published_at': '2023-10-07T20:15:26+00:00',\n",
       "   'fact': 'The prosecution painted Bankman-Fried as someone who knowingly committed fraud to achieve great wealth, power and influence, while the defense countered that the FTX founder acted in good faith, never meant to commit fraud or steal and basically got in over his head.'}]}"
      ]
     },
     "execution_count": 20,
     "metadata": {},
     "output_type": "execute_result"
    }
   ],
   "source": [
    "df.head().to_dict('records')[0]"
   ]
  },
  {
   "cell_type": "code",
   "execution_count": 21,
   "metadata": {},
   "outputs": [],
   "source": [
    "# Save dataset for later use\n",
    "with open(\"../json/multi_hop_rag.json\", \"w\") as fp:\n",
    "    json.dump(df.to_dict('records'), fp)"
   ]
  },
  {
   "cell_type": "markdown",
   "metadata": {},
   "source": [
    "<br>\n",
    "<br>\n",
    "<hr>"
   ]
  },
  {
   "cell_type": "markdown",
   "metadata": {},
   "source": [
    "## 1 Source Document -> Text Chunks\n",
    "\n",
    "The chunk size used for this implementation is 600 tokens. According to the paper, using a longer chunk size can reduce the number of LLM calls required for extraction. However, this approach can lead to recall degradation, as the model may not fully extract all relevant information from a longer context window.\n",
    "\n",
    "In dataflow from [Microsoft GraphRAG](https://microsoft.github.io/graphrag/posts/index/1-default_dataflow/), this state is convered in **Phrase 1: Compose TextUnits**\n",
    "\n",
    "![image](../.resources/grag_phrase1.png)"
   ]
  },
  {
   "cell_type": "code",
   "execution_count": 22,
   "metadata": {},
   "outputs": [
    {
     "name": "stdout",
     "output_type": "stream",
     "text": [
      "The Project Gutenberg eBook of A Christmas Carol\n",
      "\n",
      "    \n",
      "\n",
      "This ebook is for the use of anyone anywhere in the United States and\n",
      "\n",
      "most other parts of the world at no cost and with almost no restrictions\n",
      "\n",
      "whatsoever. You may copy it, give it away or re-use it under the terms\n",
      "\n",
      "of the Project Gutenberg License included with this ebook or online\n",
      "\n",
      "at www.gutenberg.org. If you are not located in the United States,\n",
      "\n",
      "you will have to check the laws of the country where you are located\n",
      "\n",
      "before using this eBook.\n",
      "\n",
      "\n",
      "\n",
      "Title: A Christmas Carol\n",
      "\n",
      "\n",
      "\n",
      "Author: Charles Dickens\n",
      "\n",
      "\n",
      "\n",
      "Illustrator: Arthur Rackham\n",
      "\n",
      "\n",
      "\n",
      "Release date: December 24, 2007 [eBook #24022]\n",
      "\n",
      "\n",
      "\n",
      "Language: English\n",
      "\n",
      "\n",
      "\n",
      "Original publication: Philadelphia and New York: J. B. Lippincott Company,, 1915\n",
      "\n",
      "\n",
      "\n",
      "Credits: Produced by Suzanne Shell, Janet Blenkinship and the Online\n",
      "\n",
      "        Distributed Proofreading Team at http://www.pgdp.net\n",
      "\n",
      "\n",
      "\n",
      "\n",
      "\n",
      "*** START OF THE PROJECT GUTENBERG EBOOK A CHRISTMAS CAROL ***\n",
      "\n",
      "\n",
      "\n",
      "\n",
      "\n",
      "\n",
      "\n",
      "\n",
      "\n",
      "Produced by Suzanne Shell, Janet Blenkinship and the Online\n",
      "\n",
      "Distributed Proofreading Team at http://www.pgdp.net\n",
      "\n",
      "\n",
      "\n",
      "\n",
      "\n",
      "\n",
      "\n",
      "\n",
      "\n",
      "\n",
      "\n",
      "\n",
      "\n",
      "\n",
      "\n",
      "\n",
      "\n",
      "\n",
      "\n",
      "\n",
      "\n",
      "\n",
      "\n",
      "  A CHRISTMAS CAROL\n",
      "\n",
      "\n",
      "\n",
      "  [Illustration: _\"How now?\" said Scrooge, caustic and cold as ever.\n",
      "\n",
      "  \"What do y\n"
     ]
    }
   ],
   "source": [
    "# load data\n",
    "data = \"\"\n",
    "\n",
    "with open(\"../doc/pg24022.txt\", 'r') as file:\n",
    "    data = '\\n'.join(file.readlines())\n",
    "\n",
    "print(data[:1200])"
   ]
  },
  {
   "cell_type": "code",
   "execution_count": 23,
   "metadata": {},
   "outputs": [
    {
     "data": {
      "text/plain": [
       "['\\ufeffThe Project Gutenberg eBook of A Christmas Carol\\n\\n    \\n\\nThis ebook is for the use of anyone anywhere in the United States and\\n\\nmost other parts of the world at no cost and with almost no restrictions\\n\\nwhatsoever. You may copy it, give it away or re-use it under the terms\\n\\nof the Project Gutenberg License included with this ebook or online\\n\\nat www.gutenberg.org. If you are not located in the United States,\\n\\nyou will have to check the laws of the country where you are located\\n\\nbefore using this eBook.\\n\\n\\n\\nTitle: A Christmas Carol\\n\\n\\n\\nAuthor: Charles Dickens\\n\\n\\n\\nIllustrator: Arthur Rackham\\n\\n\\n\\nRelease date: December 24, 2007 [eBook #24022]\\n\\n\\n\\nLanguage: English\\n\\n\\n\\nOriginal publication: Philadelphia and New York: J. B. Lippincott Company,, 1915\\n\\n\\n\\nCredits: Produced by Suzanne Shell, Janet Blenkinship and the Online\\n\\n        Distributed Proofreading Team at http://www.pgdp.net\\n\\n\\n\\n\\n\\n*** START OF THE PROJECT GUTENBERG EBOOK A CHRISTMAS CAROL ***\\n\\n\\n\\n\\n\\n\\n\\n\\n\\nProduced by Suzanne Shell, Janet Blenkinship and the Online\\n\\nDistributed Proofreading Team at http://www.pgdp.net\\n\\n\\n\\n\\n\\n\\n\\n\\n\\n\\n\\n\\n\\n\\n\\n\\n\\n\\n\\n\\n\\n\\n\\n  A CHRISTMAS CAROL\\n\\n\\n\\n  [Illustration: _\"How now?\" said Scrooge, caustic and cold as ever.\\n\\n  \"What do you want with me?\"_]\\n\\n\\n\\n\\n\\n  A CHRISTMAS CAROL\\n\\n\\n\\n  [Illustration]\\n\\n\\n\\n  BY\\n\\n\\n\\n  CHARLES DICKENS\\n\\n\\n\\n  [Illustration]\\n\\n\\n\\n  ILLUSTRATED BY ARTHUR RACKHAM\\n\\n\\n\\n  [Illustration]\\n\\n\\n\\n  J. B. LIPPINCOTT COMPANY PHILADELPHIA AND NEW YORK\\n\\n\\n\\n  FIRST PUBLISHED 1915\\n\\n\\n\\n  REPRINTED 1923, 1927, 1932, 1933, 1934, 1935, 1947, 1948, 1952, 1958,\\n\\n  1962, 1964, 1966, 1967, 1969, 1971, 1972, 1973\\n\\n\\n\\n  ISBN: 0-397-00033-2\\n\\n\\n\\n  PRINTED IN GREAT BRITAIN\\n\\n\\n\\n\\n\\n\\n\\n\\n\\n  PREFACE\\n\\n\\n\\n  I have endeavoured in this Ghostly little book to raise the Ghost of an\\n\\n  Idea which shall not put my readers out of humour with themselves, with\\n\\n  each other, with the season, or with me. May it haunt their house\\n\\n  pleasantly, and no one wish to lay it.\\n\\n\\n\\n  Their faithful Friend and Servant,\\n\\n\\n\\n  C. D.\\n\\n\\n\\n  _December, 1843._\\n\\n\\n\\n\\n\\n\\n\\n\\n\\n  CHARACTERS\\n\\n\\n\\n  Bob Cratchit, clerk to Ebenezer Scrooge.\\n\\n  Peter Cratchit, a son of the preceding.\\n\\n  Tim Cratchit (\"Tiny Tim\"), a cripple, youngest son of Bob Cr',\n",
       " ' preceding.\\n\\n  Tim Cratchit (\"Tiny Tim\"), a cripple, youngest son of Bob Cratchit.\\n\\n  Mr. Fezziwig, a kind-hearted, jovial old merchant.\\n\\n  Fred, Scrooge\\'s nephew.\\n\\n  Ghost of Christmas Past, a phantom showing things past.\\n\\n  Ghost of Christmas Present, a spirit of a kind, generous,\\n\\n    and hearty nature.\\n\\n  Ghost of Christmas Yet to Come, an apparition showing the shadows\\n\\n    of things which yet may happen.\\n\\n  Ghost of Jacob Marley, a spectre of Scrooge\\'s former partner in business.\\n\\n  Joe, a marine-store dealer and receiver of stolen goods.\\n\\n  Ebenezer Scrooge, a grasping, covetous old man, the surviving partner\\n\\n    of the firm of Scrooge and Marley.\\n\\n  Mr. Topper, a bachelor.\\n\\n  Dick Wilkins, a fellow apprentice of Scrooge\\'s.\\n\\n\\n\\n  Belle, a comely matron, an old sweetheart of Scrooge\\'s.\\n\\n  Caroline, wife of one of Scrooge\\'s debtors.\\n\\n  Mrs. Cratchit, wife of Bob Cratchit.\\n\\n  Belinda and Martha Cratchit, daughters of the preceding.\\n\\n\\n\\n  Mrs. Dilber, a laundress.\\n\\n  Fan, the sister of Scrooge.\\n\\n  Mrs. Fezziwig, the worthy partner of Mr. Fezziwig.\\n\\n\\n\\n\\n\\n\\n\\n\\n\\n  CONTENTS\\n\\n\\n\\n  STAVE ONE--MARLEY\\'S GHOST                                             3\\n\\n  STAVE TWO--THE FIRST OF THE THREE SPIRITS                            37\\n\\n  STAVE THREE--THE SECOND OF THE THREE SPIRITS                         69\\n\\n  STAVE FOUR--THE LAST OF THE SPIRITS                                 111\\n\\n  STAVE FIVE--THE END OF IT                                           137\\n\\n\\n\\n\\n\\n  LIST OF ILLUSTRATIONS\\n\\n\\n\\n  _IN COLOUR_\\n\\n\\n\\n\\n\\n  \"How now?\" said Scrooge, caustic\\n\\n    and cold as ever. \"What do you\\n\\n    want with me?\"                                           _Frontispiece_\\n\\n\\n\\n  Bob Cratchit went down a slide on\\n\\n    Cornhill, at the end of a lane of\\n\\n    boys, twenty times, in honour of\\n\\n    its being Christmas Eve                                           16\\n\\n\\n\\n  Nobody under the bed; nobody in\\n\\n    the closet; nobody in his dressing-gown,\\n\\n    which was hanging up\\n\\n    in a suspicious attitude against\\n\\n    the wall                                                          20\\n\\n\\n\\n  The air was filled with phantoms,\\n\\n   wandering hither and thither in\\n\\n    restless haste and moaning as\\n\\n    they went                                                         32\\n\\n\\n\\n  Then old Fezziwig stood out to\\n\\n    dance with Mrs. Fezziwig                                          54\\n\\n\\n\\n  A flushed and boisterous group                                      62\\n\\n\\n\\n  Laden with Christmas toys and\\n\\n    presents                                                          64\\n\\n\\n\\n  The way he went after that pl',\n",
       " ' Laden with Christmas toys and\\n\\n    presents                                                          64\\n\\n\\n\\n  The way he went after that plump\\n\\n    sister in the lace tucker!                                       100\\n\\n\\n\\n  \"How are you?\" said one.\\n\\n    \"How are you?\" returned the other.\\n\\n   \"Well!\" said the first. \"Old\\n\\n    Scratch has got his own at last,\\n\\n    hey?\"                                                            114\\n\\n\\n\\n  \"What do you call this?\" said Joe.\\n\\n    \"Bed-curtains!\" \"Ah!\" returned\\n\\n    the woman, laughing....\\n\\n    \"Bed-curtains!\"\\n\\n\\n\\n  \"You don\\'t mean to say you took\\n\\n    \\'em down, rings and all, with him\\n\\n    lying there?\" said Joe.\\n\\n\\n\\n  \"Yes, I do,\" replied the woman.\\n\\n    \"Why not?\"                                                       120\\n\\n\\n\\n  \"It\\'s I, your uncle Scrooge. I have\\n\\n    come to dinner. Will you let\\n\\n    me in, Fred?\"                                                    144\\n\\n\\n\\n  \"Now, I\\'ll tell you what, my friend,\"\\n\\n    said Scrooge. \"I am not going\\n\\n    to stand this sort of thing any\\n\\n    longer.\"                                                         146\\n\\n\\n\\n[Illustration]\\n\\n\\n\\n_IN BLACK AND WHITE_\\n\\n\\n\\n\\n\\n  Tailpiece                                                           vi\\n\\n  Tailpiece to List of Coloured Illustrations                          x\\n\\n  Tailpiece to List of Black and White Illustrations                  xi\\n\\n  Heading to Stave One                                                 3\\n\\n  They were portly gentlemen, pleasant to behold                      12\\n\\n  On the wings of the wind                                         28-29\\n\\n  Tailpiece to Stave One                                              34\\n\\n  Heading to Stave Two                                                37\\n\\n  He produced a decanter of curiously\\n\\n  light wine and a block of curiously heavy cake                      50\\n\\n  She left him, and they parted                                       60\\n\\n  Tailpiece to Stave Two                                              65\\n\\n  Heading to Stave Three                                              69\\n\\n  There was nothing very cheerful in the climate                      75\\n\\n  He had been Tim\\'s blood-horse all the way from church            84-85\\n\\n  With the pudding                                                    88\\n\\n  Heading to Stave Four                                              111\\n\\n  Heading to Stave Five                                              137\\n\\n  Tailpiece to Stave Five                                            147\\n\\n\\n\\n[Illustration]\\n\\n\\n\\n\\n\\nSTAVE ONE\\n\\n\\n\\n\\n\\n[Illustration]\\n\\n\\n\\n\\n\\n\\n\\n\\n\\nMARLEY\\'S GHOST\\n\\n\\n\\n\\n\\nMarley was dead, to begin with. There is no doubt whatever about that.\\n\\nThe register of his burial was signed by the clergyman, the clerk, the\\n\\nundertaker, and the chief mourner. Scrooge signed it. And Scrooge\\'s name\\n\\nwas good upon \\'Change for anything he chose to put his hand to. Old\\n\\nMarley was as dead as a door-nail.\\n\\n\\n\\nMind! I don\\'t mean to say that I know of my own knowledge, what there',\n",
       " \"ail.\\n\\n\\n\\nMind! I don't mean to say that I know of my own knowledge, what there is\\n\\nparticularly dead about a door-nail. I might have been inclined, myself,\\n\\nto regard a coffin-nail as the deadest piece of ironmongery in the\\n\\ntrade. But the wisdom of our ancestors is in the simile; and my\\n\\nunhallowed hands shall not disturb it, or the country's done for. You\\n\\nwill, therefore, permit me to repeat, emphatically, that Marley was as\\n\\ndead as a door-nail.\\n\\n\\n\\nScrooge knew he was dead? Of course he did. How could it be otherwise?\\n\\nScrooge and he were partners for I don't know how many years. Scrooge\\n\\nwas his sole executor, his sole administrator, his sole assign, his sole\\n\\nresiduary legatee, his sole friend, and sole mourner. And even Scrooge\\n\\nwas not so dreadfully cut up by the sad event but that he was an\\n\\nexcellent man of business on the very day of the funeral, and solemnised\\n\\nit with an undoubted bargain.\\n\\n\\n\\nThe mention of Marley's funeral brings me back to the point I started\\n\\nfrom. There is no doubt that Marley was dead. This must be distinctly\\n\\nunderstood, or nothing wonderful can come of the story I am going to\\n\\nrelate. If we were not perfectly convinced that Hamlet's father died\\n\\nbefore the play began, there would be nothing more remarkable in his\\n\\ntaking a stroll at night, in an easterly wind, upon his own ramparts,\\n\\nthan there would be in any other middle-aged gentleman rashly turning\\n\\nout after dark in a breezy spot--say St. Paul's Churchyard, for\\n\\ninstance--literally to astonish his son's weak mind.\\n\\n\\n\\nScrooge never painted out Old Marley's name. There it stood, years\\n\\nafterwards, above the warehouse door: Scrooge and Marley. The firm was\\n\\nknown as Scrooge and Marley. Sometimes people new to the business called\\n\\nScrooge Scrooge, and sometimes Marley, but he answered to both names. It\\n\\nwas all the same to him.\\n\\n\\n\\nOh! but he was a tight-fisted hand at the grindstone, Scrooge! a\\n\\nsqueezing, wrenching, grasping, scraping, clutching, covetous old\\n\\nsinner! Hard and sharp as flint, from which no steel had ever struck out\\n\\ngenerous fire; secret, and self-contained, and solitary as an oyster.\\n\\nThe cold within him froze his old features, nipped his pointed nose,\\n\\nshrivelled his cheek, stiffened his gait; made his eyes red, his thin\\n\\nlips blue; and spoke out shrewdly in his grating voice. A frosty rime\\n\\nwas on his head,\",\n",
       " \"rewdly in his grating voice. A frosty rime\\n\\nwas on his head, and on his eyebrows, and his wiry chin. He carried his\\n\\nown low temperature always about with him; he iced his office in the\\n\\ndog-days, and didn't thaw it one degree at Christmas.\\n\\n\\n\\nExternal heat and cold had little influence on Scrooge. No warmth could\\n\\nwarm, no wintry weather chill him. No wind that blew was bitterer than\\n\\nhe, no falling snow was more intent upon its purpose, no pelting rain\\n\\nless open to entreaty. Foul weather didn't know where to have him. The\\n\\nheaviest rain, and snow, and hail, and sleet could boast of the\\n\\nadvantage over him in only one respect. They often 'came down'\\n\\nhandsomely, and Scrooge never did.\\n\\n\\n\\nNobody ever stopped him in the street to say, with gladsome looks, 'My\\n\\ndear Scrooge, how are you? When will you come to see me?' No beggars\\n\\nimplored him to bestow a trifle, no children asked him what it was\\n\\no'clock, no man or woman ever once in all his life inquired the way to\\n\\nsuch and such a place, of Scrooge. Even the blind men's dogs appeared to\\n\\nknow him; and, when they saw him coming on, would tug their owners into\\n\\ndoorways and up courts; and then would wag their tails as though they\\n\\nsaid, 'No eye at all is better than an evil eye, dark master!'\\n\\n\\n\\nBut what did Scrooge care? It was the very thing he liked. To edge his\\n\\nway along the crowded paths of life, warning all human sympathy to keep\\n\\nits distance, was what the knowing ones call 'nuts' to Scrooge.\\n\\n\\n\\nOnce upon a time--of all the good days in the year, on Christmas\\n\\nEve--old Scrooge sat busy in his counting-house. It was cold, bleak,\\n\\nbiting weather; foggy withal; and he could hear the people in the court\\n\\noutside go wheezing up and down, beating their hands upon their breasts,\\n\\nand stamping their feet upon the pavement stones to warm them. The City\\n\\nclocks had only just gone three, but it was quite dark already--it had\\n\\nnot been light all day--and candles were flaring in the windows of the\\n\\nneighbouring offices, like ruddy smears upon the palpable brown air. The\\n\\nfog came pouring in at every chink and keyhole, and was so dense\\n\\nwithout, that, although the court was of the narrowest, the houses\\n\\nopposite were mere phantoms. To see the dingy cloud come drooping down,\\n\\nobscuring everything, one might have thought that nature lived hard by,\\n\\nand was brewing on a large scale.\\n\\n\\n\\n\"]"
      ]
     },
     "execution_count": 23,
     "metadata": {},
     "output_type": "execute_result"
    }
   ],
   "source": [
    "from text_splitter import TextSplitter\n",
    "text_splitter = TextSplitter(600, 20)\n",
    "\n",
    "chunks = text_splitter.split_text(data)\n",
    "chunks[:5]"
   ]
  },
  {
   "cell_type": "markdown",
   "metadata": {},
   "source": [
    "<hr>\n",
    "\n",
    "## 2 Text extraction -> Element Instances\n",
    "\n",
    "A multipart LLM prompt will be used to identify all the *entites* in the text, including their names, type and description. Then extracting *relationship* between entities"
   ]
  },
  {
   "cell_type": "code",
   "execution_count": 24,
   "metadata": {},
   "outputs": [],
   "source": [
    "from extractor import GraphExtractor\n",
    "from LLM import GeminiModel\n",
    "\n",
    "ge = GraphExtractor(GeminiModel())"
   ]
  },
  {
   "cell_type": "code",
   "execution_count": 30,
   "metadata": {},
   "outputs": [
    {
     "name": "stdout",
     "output_type": "stream",
     "text": [
      "\"entity\"<TD>CHARLES DICKENS<TD>PERSON<TD>Charles Dickens wrote A Christmas Carol\n",
      "\"entity\"<TD>BOB CRATCHIT<TD>PERSON<TD>Bob Cratchit is a clerk that works for Ebenezer Scrooge\n",
      "\"entity\"<TD>PETER CRATCHIT<TD>PERSON<TD>Peter Cratchit is a son of Bob Cratchit\n",
      "\"entity\"<TD>TIM CRATCHIT<TD>PERSON<TD>Tim Cratchit is the youngest son of Bob Cratchit and is refered to as Tiny Tim\n",
      "\"entity\"<TD>Ebenezer Scrooge<TD>PERSON<TD>Ebenezer Scrooge is the main character in A Christmas Carol)\n",
      "<COMPLETE>\n"
     ]
    },
    {
     "data": {
      "text/plain": [
       "[{'entity': {'entity_name': 'CHARLES DICKENS',\n",
       "   'entity_type': 'PERSON',\n",
       "   'entity_description': 'Charles Dickens wrote A Christmas Carol'}},\n",
       " {'entity': {'entity_name': 'BOB CRATCHIT',\n",
       "   'entity_type': 'PERSON',\n",
       "   'entity_description': 'Bob Cratchit is a clerk that works for Ebenezer Scrooge'}},\n",
       " {'entity': {'entity_name': 'PETER CRATCHIT',\n",
       "   'entity_type': 'PERSON',\n",
       "   'entity_description': 'Peter Cratchit is a son of Bob Cratchit'}},\n",
       " {'entity': {'entity_name': 'TIM CRATCHIT',\n",
       "   'entity_type': 'PERSON',\n",
       "   'entity_description': 'Tim Cratchit is the youngest son of Bob Cratchit and is refered to as Tiny Tim'}},\n",
       " {'entity': {'entity_name': 'Ebenezer Scrooge',\n",
       "   'entity_type': 'PERSON',\n",
       "   'entity_description': 'Ebenezer Scrooge is the main character in A Christmas Carol)\\n<COMPLETE>'}}]"
      ]
     },
     "execution_count": 30,
     "metadata": {},
     "output_type": "execute_result"
    }
   ],
   "source": [
    "ge.extract_text(chunks[0], store=False)"
   ]
  },
  {
   "cell_type": "markdown",
   "metadata": {},
   "source": [
    "From the above *entities* and *relationships* extraction using Gemini model. The model is capable of extracting and building information for entities and relationship. \n",
    "\n",
    "However, through many tests, the results are not consistent. Sometimes, the model fails to fully extract entities or relationships from text. This has been mentioned in paper, where the author use multiple rounds of “gleanings” to encourage the LLM to detect any additional entities it may have missed on prior extraction rounds.  \n",
    "\n",
    "**NOTE**: Currently, the function has not included the aboved multi-gleaning process."
   ]
  },
  {
   "cell_type": "markdown",
   "metadata": {},
   "source": [
    "\n",
    "<hr>\n",
    "\n",
    "## 3 Element Instances -> Element Summaries\n",
    "\n",
    "In second phrase of dataflow from [Microsoft GraphRAG](https://microsoft.github.io/graphrag/posts/index/1-default_dataflow/). After retrieving all the *entities* and *relationships* from list of chunks, we will merge a the entity with the same *name* and *type*, generate list of *description*. This also applies for *relationship* by merging any relationship that have the same pair of *source* and *target*.\n",
    "\n",
    "After that, for every merged node, a LLM will be used to summarize list of description into a single description, covers full information of the node."
   ]
  },
  {
   "cell_type": "code",
   "execution_count": null,
   "metadata": {},
   "outputs": [],
   "source": []
  }
 ],
 "metadata": {
  "kernelspec": {
   "display_name": "rag",
   "language": "python",
   "name": "python3"
  },
  "language_info": {
   "codemirror_mode": {
    "name": "ipython",
    "version": 3
   },
   "file_extension": ".py",
   "mimetype": "text/x-python",
   "name": "python",
   "nbconvert_exporter": "python",
   "pygments_lexer": "ipython3",
   "version": "3.11.9"
  }
 },
 "nbformat": 4,
 "nbformat_minor": 2
}
